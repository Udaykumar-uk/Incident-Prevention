{
 "cells": [
  {
   "cell_type": "markdown",
   "id": "bfe2cbe6",
   "metadata": {},
   "source": [
    "## Import Libraries"
   ]
  },
  {
   "cell_type": "code",
   "execution_count": 2,
   "id": "3adb1698",
   "metadata": {},
   "outputs": [],
   "source": [
    "import pandas as pd\n",
    "import numpy as np\n",
    "%matplotlib inline\n",
    "import matplotlib.pyplot as plt"
   ]
  },
  {
   "cell_type": "code",
   "execution_count": 3,
   "id": "f3d7803e",
   "metadata": {},
   "outputs": [
    {
     "name": "stderr",
     "output_type": "stream",
     "text": [
      "2023-04-29 22:19:04.153100: I tensorflow/core/platform/cpu_feature_guard.cc:193] This TensorFlow binary is optimized with oneAPI Deep Neural Network Library (oneDNN) to use the following CPU instructions in performance-critical operations:  AVX2 FMA\n",
      "To enable them in other operations, rebuild TensorFlow with the appropriate compiler flags.\n"
     ]
    }
   ],
   "source": [
    "# For timeseries RNN LSTM neural networks\n",
    "from tensorflow.keras.models import Sequential\n",
    "from tensorflow.keras.layers import LSTM\n",
    "from tensorflow.keras.layers import Dropout\n",
    "from tensorflow.keras.layers import Dense"
   ]
  },
  {
   "cell_type": "code",
   "execution_count": 4,
   "id": "ebb4dd96",
   "metadata": {},
   "outputs": [],
   "source": [
    "from tensorflow.keras.preprocessing.sequence import TimeseriesGenerator\n",
    "from sklearn.preprocessing import MinMaxScaler"
   ]
  },
  {
   "cell_type": "markdown",
   "id": "488818e5",
   "metadata": {},
   "source": [
    "## Dataset American Airlines Inc (AAL: Jan 22, 2009 - Jan 22, 2012)"
   ]
  },
  {
   "cell_type": "code",
   "execution_count": 5,
   "id": "08db3285",
   "metadata": {},
   "outputs": [
    {
     "data": {
      "text/plain": [
       "'/Users/udaykumar/Desktop'"
      ]
     },
     "execution_count": 5,
     "metadata": {},
     "output_type": "execute_result"
    }
   ],
   "source": [
    "pwd"
   ]
  },
  {
   "cell_type": "code",
   "execution_count": 6,
   "id": "6ceb6cd5",
   "metadata": {},
   "outputs": [
    {
     "name": "stdout",
     "output_type": "stream",
     "text": [
      "/Users/udaykumar/Downloads\n"
     ]
    }
   ],
   "source": [
    "cd /Users/udaykumar/Downloads"
   ]
  },
  {
   "cell_type": "markdown",
   "id": "71b262f4",
   "metadata": {},
   "source": [
    "## Load Dataset"
   ]
  },
  {
   "cell_type": "code",
   "execution_count": 7,
   "id": "405b84cc",
   "metadata": {},
   "outputs": [],
   "source": [
    "df_ALL=pd.read_csv('AAL.csv')"
   ]
  },
  {
   "cell_type": "code",
   "execution_count": 8,
   "id": "6e898c99",
   "metadata": {},
   "outputs": [
    {
     "data": {
      "text/html": [
       "<div>\n",
       "<style scoped>\n",
       "    .dataframe tbody tr th:only-of-type {\n",
       "        vertical-align: middle;\n",
       "    }\n",
       "\n",
       "    .dataframe tbody tr th {\n",
       "        vertical-align: top;\n",
       "    }\n",
       "\n",
       "    .dataframe thead th {\n",
       "        text-align: right;\n",
       "    }\n",
       "</style>\n",
       "<table border=\"1\" class=\"dataframe\">\n",
       "  <thead>\n",
       "    <tr style=\"text-align: right;\">\n",
       "      <th></th>\n",
       "      <th>Date</th>\n",
       "      <th>Open</th>\n",
       "      <th>High</th>\n",
       "      <th>Low</th>\n",
       "      <th>Close</th>\n",
       "      <th>Adj Close</th>\n",
       "      <th>Volume</th>\n",
       "    </tr>\n",
       "  </thead>\n",
       "  <tbody>\n",
       "    <tr>\n",
       "      <th>0</th>\n",
       "      <td>2009-01-23</td>\n",
       "      <td>7.10</td>\n",
       "      <td>8.00</td>\n",
       "      <td>7.03</td>\n",
       "      <td>7.82</td>\n",
       "      <td>7.372238</td>\n",
       "      <td>5693700</td>\n",
       "    </tr>\n",
       "    <tr>\n",
       "      <th>1</th>\n",
       "      <td>2009-01-26</td>\n",
       "      <td>7.79</td>\n",
       "      <td>8.02</td>\n",
       "      <td>7.52</td>\n",
       "      <td>7.70</td>\n",
       "      <td>7.259109</td>\n",
       "      <td>3242800</td>\n",
       "    </tr>\n",
       "    <tr>\n",
       "      <th>2</th>\n",
       "      <td>2009-01-27</td>\n",
       "      <td>7.73</td>\n",
       "      <td>7.80</td>\n",
       "      <td>6.26</td>\n",
       "      <td>6.71</td>\n",
       "      <td>6.325797</td>\n",
       "      <td>8829700</td>\n",
       "    </tr>\n",
       "    <tr>\n",
       "      <th>3</th>\n",
       "      <td>2009-01-28</td>\n",
       "      <td>7.04</td>\n",
       "      <td>7.46</td>\n",
       "      <td>6.92</td>\n",
       "      <td>7.30</td>\n",
       "      <td>6.882013</td>\n",
       "      <td>6342100</td>\n",
       "    </tr>\n",
       "    <tr>\n",
       "      <th>4</th>\n",
       "      <td>2009-01-29</td>\n",
       "      <td>7.15</td>\n",
       "      <td>7.75</td>\n",
       "      <td>6.33</td>\n",
       "      <td>6.47</td>\n",
       "      <td>6.099537</td>\n",
       "      <td>9766200</td>\n",
       "    </tr>\n",
       "  </tbody>\n",
       "</table>\n",
       "</div>"
      ],
      "text/plain": [
       "         Date  Open  High   Low  Close  Adj Close   Volume\n",
       "0  2009-01-23  7.10  8.00  7.03   7.82   7.372238  5693700\n",
       "1  2009-01-26  7.79  8.02  7.52   7.70   7.259109  3242800\n",
       "2  2009-01-27  7.73  7.80  6.26   6.71   6.325797  8829700\n",
       "3  2009-01-28  7.04  7.46  6.92   7.30   6.882013  6342100\n",
       "4  2009-01-29  7.15  7.75  6.33   6.47   6.099537  9766200"
      ]
     },
     "execution_count": 8,
     "metadata": {},
     "output_type": "execute_result"
    }
   ],
   "source": [
    "df_ALL.head()"
   ]
  },
  {
   "cell_type": "markdown",
   "id": "df8a3c9f",
   "metadata": {},
   "source": [
    "## Brief Exploratory Data Analysis (EDA) "
   ]
  },
  {
   "cell_type": "code",
   "execution_count": 9,
   "id": "3dd73de2",
   "metadata": {},
   "outputs": [
    {
     "data": {
      "text/plain": [
       "(755, 7)"
      ]
     },
     "execution_count": 9,
     "metadata": {},
     "output_type": "execute_result"
    }
   ],
   "source": [
    "df_ALL.shape"
   ]
  },
  {
   "cell_type": "code",
   "execution_count": 10,
   "id": "7aa8a204",
   "metadata": {},
   "outputs": [
    {
     "data": {
      "text/plain": [
       "Date          object\n",
       "Open         float64\n",
       "High         float64\n",
       "Low          float64\n",
       "Close        float64\n",
       "Adj Close    float64\n",
       "Volume         int64\n",
       "dtype: object"
      ]
     },
     "execution_count": 10,
     "metadata": {},
     "output_type": "execute_result"
    }
   ],
   "source": [
    "df_ALL.dtypes"
   ]
  },
  {
   "cell_type": "code",
   "execution_count": 11,
   "id": "11c43d6b",
   "metadata": {},
   "outputs": [
    {
     "data": {
      "text/html": [
       "<div>\n",
       "<style scoped>\n",
       "    .dataframe tbody tr th:only-of-type {\n",
       "        vertical-align: middle;\n",
       "    }\n",
       "\n",
       "    .dataframe tbody tr th {\n",
       "        vertical-align: top;\n",
       "    }\n",
       "\n",
       "    .dataframe thead th {\n",
       "        text-align: right;\n",
       "    }\n",
       "</style>\n",
       "<table border=\"1\" class=\"dataframe\">\n",
       "  <thead>\n",
       "    <tr style=\"text-align: right;\">\n",
       "      <th></th>\n",
       "      <th>Open</th>\n",
       "      <th>High</th>\n",
       "      <th>Low</th>\n",
       "      <th>Close</th>\n",
       "      <th>Adj Close</th>\n",
       "      <th>Volume</th>\n",
       "    </tr>\n",
       "  </thead>\n",
       "  <tbody>\n",
       "    <tr>\n",
       "      <th>count</th>\n",
       "      <td>755.000000</td>\n",
       "      <td>755.000000</td>\n",
       "      <td>755.000000</td>\n",
       "      <td>755.000000</td>\n",
       "      <td>755.000000</td>\n",
       "      <td>7.550000e+02</td>\n",
       "    </tr>\n",
       "    <tr>\n",
       "      <th>mean</th>\n",
       "      <td>6.618040</td>\n",
       "      <td>6.794053</td>\n",
       "      <td>6.422146</td>\n",
       "      <td>6.596026</td>\n",
       "      <td>6.218348</td>\n",
       "      <td>8.517628e+06</td>\n",
       "    </tr>\n",
       "    <tr>\n",
       "      <th>std</th>\n",
       "      <td>2.701919</td>\n",
       "      <td>2.729561</td>\n",
       "      <td>2.675576</td>\n",
       "      <td>2.699536</td>\n",
       "      <td>2.544964</td>\n",
       "      <td>5.097315e+06</td>\n",
       "    </tr>\n",
       "    <tr>\n",
       "      <th>min</th>\n",
       "      <td>2.000000</td>\n",
       "      <td>2.090000</td>\n",
       "      <td>1.880000</td>\n",
       "      <td>1.970000</td>\n",
       "      <td>1.857201</td>\n",
       "      <td>1.899200e+06</td>\n",
       "    </tr>\n",
       "    <tr>\n",
       "      <th>25%</th>\n",
       "      <td>4.415000</td>\n",
       "      <td>4.555000</td>\n",
       "      <td>4.315000</td>\n",
       "      <td>4.410000</td>\n",
       "      <td>4.157490</td>\n",
       "      <td>5.303200e+06</td>\n",
       "    </tr>\n",
       "    <tr>\n",
       "      <th>50%</th>\n",
       "      <td>6.280000</td>\n",
       "      <td>6.450000</td>\n",
       "      <td>6.060000</td>\n",
       "      <td>6.260000</td>\n",
       "      <td>5.901561</td>\n",
       "      <td>7.126600e+06</td>\n",
       "    </tr>\n",
       "    <tr>\n",
       "      <th>75%</th>\n",
       "      <td>9.040000</td>\n",
       "      <td>9.210000</td>\n",
       "      <td>8.845000</td>\n",
       "      <td>9.030000</td>\n",
       "      <td>8.512956</td>\n",
       "      <td>1.003475e+07</td>\n",
       "    </tr>\n",
       "    <tr>\n",
       "      <th>max</th>\n",
       "      <td>12.240000</td>\n",
       "      <td>12.260000</td>\n",
       "      <td>11.870000</td>\n",
       "      <td>12.070000</td>\n",
       "      <td>11.378889</td>\n",
       "      <td>5.235450e+07</td>\n",
       "    </tr>\n",
       "  </tbody>\n",
       "</table>\n",
       "</div>"
      ],
      "text/plain": [
       "             Open        High         Low       Close   Adj Close  \\\n",
       "count  755.000000  755.000000  755.000000  755.000000  755.000000   \n",
       "mean     6.618040    6.794053    6.422146    6.596026    6.218348   \n",
       "std      2.701919    2.729561    2.675576    2.699536    2.544964   \n",
       "min      2.000000    2.090000    1.880000    1.970000    1.857201   \n",
       "25%      4.415000    4.555000    4.315000    4.410000    4.157490   \n",
       "50%      6.280000    6.450000    6.060000    6.260000    5.901561   \n",
       "75%      9.040000    9.210000    8.845000    9.030000    8.512956   \n",
       "max     12.240000   12.260000   11.870000   12.070000   11.378889   \n",
       "\n",
       "             Volume  \n",
       "count  7.550000e+02  \n",
       "mean   8.517628e+06  \n",
       "std    5.097315e+06  \n",
       "min    1.899200e+06  \n",
       "25%    5.303200e+06  \n",
       "50%    7.126600e+06  \n",
       "75%    1.003475e+07  \n",
       "max    5.235450e+07  "
      ]
     },
     "execution_count": 11,
     "metadata": {},
     "output_type": "execute_result"
    }
   ],
   "source": [
    "# Statistics Sumary\n",
    "df_ALL.describe()"
   ]
  },
  {
   "cell_type": "markdown",
   "id": "6722fffa",
   "metadata": {},
   "source": [
    "## Keep only \"Close\" (for closing price) and filter out all other attributes."
   ]
  },
  {
   "cell_type": "markdown",
   "id": "3ae6e25d",
   "metadata": {},
   "source": [
    "#### Notes: The research focuses only on the closing price"
   ]
  },
  {
   "cell_type": "code",
   "execution_count": 12,
   "id": "0079560f",
   "metadata": {},
   "outputs": [],
   "source": [
    "df = df_ALL.iloc[:,4:5]"
   ]
  },
  {
   "cell_type": "code",
   "execution_count": 13,
   "id": "ebf59baa",
   "metadata": {},
   "outputs": [
    {
     "data": {
      "text/html": [
       "<div>\n",
       "<style scoped>\n",
       "    .dataframe tbody tr th:only-of-type {\n",
       "        vertical-align: middle;\n",
       "    }\n",
       "\n",
       "    .dataframe tbody tr th {\n",
       "        vertical-align: top;\n",
       "    }\n",
       "\n",
       "    .dataframe thead th {\n",
       "        text-align: right;\n",
       "    }\n",
       "</style>\n",
       "<table border=\"1\" class=\"dataframe\">\n",
       "  <thead>\n",
       "    <tr style=\"text-align: right;\">\n",
       "      <th></th>\n",
       "      <th>Close</th>\n",
       "    </tr>\n",
       "  </thead>\n",
       "  <tbody>\n",
       "    <tr>\n",
       "      <th>0</th>\n",
       "      <td>7.82</td>\n",
       "    </tr>\n",
       "    <tr>\n",
       "      <th>1</th>\n",
       "      <td>7.70</td>\n",
       "    </tr>\n",
       "    <tr>\n",
       "      <th>2</th>\n",
       "      <td>6.71</td>\n",
       "    </tr>\n",
       "    <tr>\n",
       "      <th>3</th>\n",
       "      <td>7.30</td>\n",
       "    </tr>\n",
       "    <tr>\n",
       "      <th>4</th>\n",
       "      <td>6.47</td>\n",
       "    </tr>\n",
       "  </tbody>\n",
       "</table>\n",
       "</div>"
      ],
      "text/plain": [
       "   Close\n",
       "0   7.82\n",
       "1   7.70\n",
       "2   6.71\n",
       "3   7.30\n",
       "4   6.47"
      ]
     },
     "execution_count": 13,
     "metadata": {},
     "output_type": "execute_result"
    }
   ],
   "source": [
    "df.head()"
   ]
  },
  {
   "cell_type": "code",
   "execution_count": 14,
   "id": "712308e4",
   "metadata": {},
   "outputs": [
    {
     "data": {
      "text/plain": [
       "<AxesSubplot:>"
      ]
     },
     "execution_count": 14,
     "metadata": {},
     "output_type": "execute_result"
    },
    {
     "data": {
      "image/png": "[encoded data removed]",
      "text/plain": [
       "<Figure size 1200x800 with 1 Axes>"
      ]
     },
     "metadata": {},
     "output_type": "display_data"
    }
   ],
   "source": [
    "df.plot(figsize=(12, 8))"
   ]
  },
  {
   "cell_type": "markdown",
   "id": "a1eef72f",
   "metadata": {},
   "source": [
    "## Length of Input Time Series-Number of Input Time Steps"
   ]
  },
  {
   "cell_type": "code",
   "execution_count": 15,
   "id": "6cd8784d",
   "metadata": {},
   "outputs": [],
   "source": [
    "length60 = 60"
   ]
  },
  {
   "cell_type": "code",
   "execution_count": 16,
   "id": "d5d2a83b",
   "metadata": {},
   "outputs": [
    {
     "data": {
      "text/plain": [
       "60"
      ]
     },
     "execution_count": 16,
     "metadata": {},
     "output_type": "execute_result"
    }
   ],
   "source": [
    "length60"
   ]
  },
  {
   "cell_type": "markdown",
   "id": "b1cd0fcc",
   "metadata": {},
   "source": [
    "## Time Series Dataset: Train / Test "
   ]
  },
  {
   "cell_type": "code",
   "execution_count": 17,
   "id": "a013673b",
   "metadata": {},
   "outputs": [
    {
     "data": {
      "text/plain": [
       "755"
      ]
     },
     "execution_count": 17,
     "metadata": {},
     "output_type": "execute_result"
    }
   ],
   "source": [
    "len(df)"
   ]
  },
  {
   "cell_type": "code",
   "execution_count": 18,
   "id": "43115134",
   "metadata": {},
   "outputs": [],
   "source": [
    "test_precent = 0.1"
   ]
  },
  {
   "cell_type": "code",
   "execution_count": 19,
   "id": "bcee0835",
   "metadata": {},
   "outputs": [
    {
     "data": {
      "text/plain": [
       "75.5"
      ]
     },
     "execution_count": 19,
     "metadata": {},
     "output_type": "execute_result"
    }
   ],
   "source": [
    "len(df)*test_precent"
   ]
  },
  {
   "cell_type": "markdown",
   "id": "0b3e25dc",
   "metadata": {},
   "source": [
    "## Split Data --> Train / Test "
   ]
  },
  {
   "cell_type": "code",
   "execution_count": 20,
   "id": "17e1e289",
   "metadata": {},
   "outputs": [
    {
     "data": {
      "text/plain": [
       "76.0"
      ]
     },
     "execution_count": 20,
     "metadata": {},
     "output_type": "execute_result"
    }
   ],
   "source": [
    "test_length = np.round(len(df)*test_precent)\n",
    "test_length"
   ]
  },
  {
   "cell_type": "code",
   "execution_count": 21,
   "id": "5988c914",
   "metadata": {},
   "outputs": [
    {
     "data": {
      "text/plain": [
       "679"
      ]
     },
     "execution_count": 21,
     "metadata": {},
     "output_type": "execute_result"
    }
   ],
   "source": [
    "split_index = int(len(df) - test_length)\n",
    "split_index"
   ]
  },
  {
   "cell_type": "code",
   "execution_count": 22,
   "id": "538bbd69",
   "metadata": {},
   "outputs": [],
   "source": [
    "data_train = df.iloc[: split_index]\n",
    "data_test = df.iloc[split_index - length60 :]"
   ]
  },
  {
   "cell_type": "code",
   "execution_count": 23,
   "id": "7dd6e182",
   "metadata": {},
   "outputs": [
    {
     "data": {
      "text/html": [
       "<div>\n",
       "<style scoped>\n",
       "    .dataframe tbody tr th:only-of-type {\n",
       "        vertical-align: middle;\n",
       "    }\n",
       "\n",
       "    .dataframe tbody tr th {\n",
       "        vertical-align: top;\n",
       "    }\n",
       "\n",
       "    .dataframe thead th {\n",
       "        text-align: right;\n",
       "    }\n",
       "</style>\n",
       "<table border=\"1\" class=\"dataframe\">\n",
       "  <thead>\n",
       "    <tr style=\"text-align: right;\">\n",
       "      <th></th>\n",
       "      <th>Close</th>\n",
       "    </tr>\n",
       "  </thead>\n",
       "  <tbody>\n",
       "    <tr>\n",
       "      <th>0</th>\n",
       "      <td>7.82</td>\n",
       "    </tr>\n",
       "    <tr>\n",
       "      <th>1</th>\n",
       "      <td>7.70</td>\n",
       "    </tr>\n",
       "    <tr>\n",
       "      <th>2</th>\n",
       "      <td>6.71</td>\n",
       "    </tr>\n",
       "    <tr>\n",
       "      <th>3</th>\n",
       "      <td>7.30</td>\n",
       "    </tr>\n",
       "    <tr>\n",
       "      <th>4</th>\n",
       "      <td>6.47</td>\n",
       "    </tr>\n",
       "  </tbody>\n",
       "</table>\n",
       "</div>"
      ],
      "text/plain": [
       "   Close\n",
       "0   7.82\n",
       "1   7.70\n",
       "2   6.71\n",
       "3   7.30\n",
       "4   6.47"
      ]
     },
     "execution_count": 23,
     "metadata": {},
     "output_type": "execute_result"
    }
   ],
   "source": [
    "data_train.head(5)"
   ]
  },
  {
   "cell_type": "code",
   "execution_count": 24,
   "id": "559d7690",
   "metadata": {},
   "outputs": [
    {
     "data": {
      "text/html": [
       "<div>\n",
       "<style scoped>\n",
       "    .dataframe tbody tr th:only-of-type {\n",
       "        vertical-align: middle;\n",
       "    }\n",
       "\n",
       "    .dataframe tbody tr th {\n",
       "        vertical-align: top;\n",
       "    }\n",
       "\n",
       "    .dataframe thead th {\n",
       "        text-align: right;\n",
       "    }\n",
       "</style>\n",
       "<table border=\"1\" class=\"dataframe\">\n",
       "  <thead>\n",
       "    <tr style=\"text-align: right;\">\n",
       "      <th></th>\n",
       "      <th>Close</th>\n",
       "    </tr>\n",
       "  </thead>\n",
       "  <tbody>\n",
       "    <tr>\n",
       "      <th>674</th>\n",
       "      <td>6.43</td>\n",
       "    </tr>\n",
       "    <tr>\n",
       "      <th>675</th>\n",
       "      <td>6.11</td>\n",
       "    </tr>\n",
       "    <tr>\n",
       "      <th>676</th>\n",
       "      <td>6.12</td>\n",
       "    </tr>\n",
       "    <tr>\n",
       "      <th>677</th>\n",
       "      <td>6.10</td>\n",
       "    </tr>\n",
       "    <tr>\n",
       "      <th>678</th>\n",
       "      <td>5.50</td>\n",
       "    </tr>\n",
       "  </tbody>\n",
       "</table>\n",
       "</div>"
      ],
      "text/plain": [
       "     Close\n",
       "674   6.43\n",
       "675   6.11\n",
       "676   6.12\n",
       "677   6.10\n",
       "678   5.50"
      ]
     },
     "execution_count": 24,
     "metadata": {},
     "output_type": "execute_result"
    }
   ],
   "source": [
    "data_train.tail()"
   ]
  },
  {
   "cell_type": "code",
   "execution_count": 25,
   "id": "fa8a9fe1",
   "metadata": {},
   "outputs": [
    {
     "data": {
      "text/html": [
       "<div>\n",
       "<style scoped>\n",
       "    .dataframe tbody tr th:only-of-type {\n",
       "        vertical-align: middle;\n",
       "    }\n",
       "\n",
       "    .dataframe tbody tr th {\n",
       "        vertical-align: top;\n",
       "    }\n",
       "\n",
       "    .dataframe thead th {\n",
       "        text-align: right;\n",
       "    }\n",
       "</style>\n",
       "<table border=\"1\" class=\"dataframe\">\n",
       "  <thead>\n",
       "    <tr style=\"text-align: right;\">\n",
       "      <th></th>\n",
       "      <th>Close</th>\n",
       "    </tr>\n",
       "  </thead>\n",
       "  <tbody>\n",
       "    <tr>\n",
       "      <th>619</th>\n",
       "      <td>8.21</td>\n",
       "    </tr>\n",
       "    <tr>\n",
       "      <th>620</th>\n",
       "      <td>8.06</td>\n",
       "    </tr>\n",
       "    <tr>\n",
       "      <th>621</th>\n",
       "      <td>7.95</td>\n",
       "    </tr>\n",
       "    <tr>\n",
       "      <th>622</th>\n",
       "      <td>7.90</td>\n",
       "    </tr>\n",
       "    <tr>\n",
       "      <th>623</th>\n",
       "      <td>7.64</td>\n",
       "    </tr>\n",
       "  </tbody>\n",
       "</table>\n",
       "</div>"
      ],
      "text/plain": [
       "     Close\n",
       "619   8.21\n",
       "620   8.06\n",
       "621   7.95\n",
       "622   7.90\n",
       "623   7.64"
      ]
     },
     "execution_count": 25,
     "metadata": {},
     "output_type": "execute_result"
    }
   ],
   "source": [
    "data_test.head(5)"
   ]
  },
  {
   "cell_type": "code",
   "execution_count": 26,
   "id": "14a9a77f",
   "metadata": {},
   "outputs": [
    {
     "data": {
      "text/html": [
       "<div>\n",
       "<style scoped>\n",
       "    .dataframe tbody tr th:only-of-type {\n",
       "        vertical-align: middle;\n",
       "    }\n",
       "\n",
       "    .dataframe tbody tr th {\n",
       "        vertical-align: top;\n",
       "    }\n",
       "\n",
       "    .dataframe thead th {\n",
       "        text-align: right;\n",
       "    }\n",
       "</style>\n",
       "<table border=\"1\" class=\"dataframe\">\n",
       "  <thead>\n",
       "    <tr style=\"text-align: right;\">\n",
       "      <th></th>\n",
       "      <th>Close</th>\n",
       "    </tr>\n",
       "  </thead>\n",
       "  <tbody>\n",
       "    <tr>\n",
       "      <th>750</th>\n",
       "      <td>5.97</td>\n",
       "    </tr>\n",
       "    <tr>\n",
       "      <th>751</th>\n",
       "      <td>5.88</td>\n",
       "    </tr>\n",
       "    <tr>\n",
       "      <th>752</th>\n",
       "      <td>6.04</td>\n",
       "    </tr>\n",
       "    <tr>\n",
       "      <th>753</th>\n",
       "      <td>6.26</td>\n",
       "    </tr>\n",
       "    <tr>\n",
       "      <th>754</th>\n",
       "      <td>6.37</td>\n",
       "    </tr>\n",
       "  </tbody>\n",
       "</table>\n",
       "</div>"
      ],
      "text/plain": [
       "     Close\n",
       "750   5.97\n",
       "751   5.88\n",
       "752   6.04\n",
       "753   6.26\n",
       "754   6.37"
      ]
     },
     "execution_count": 26,
     "metadata": {},
     "output_type": "execute_result"
    }
   ],
   "source": [
    "data_test.tail()"
   ]
  },
  {
   "cell_type": "markdown",
   "id": "7c3c393e",
   "metadata": {},
   "source": [
    "## Normalize Data Scale it into the[0, 1]"
   ]
  },
  {
   "cell_type": "code",
   "execution_count": 27,
   "id": "4b05b177",
   "metadata": {},
   "outputs": [],
   "source": [
    "scaler = MinMaxScaler()"
   ]
  },
  {
   "cell_type": "code",
   "execution_count": 28,
   "id": "79759f76",
   "metadata": {},
   "outputs": [
    {
     "data": {
      "text/plain": [
       "MinMaxScaler()"
      ]
     },
     "execution_count": 28,
     "metadata": {},
     "output_type": "execute_result"
    }
   ],
   "source": [
    "scaler.fit(data_train)"
   ]
  },
  {
   "cell_type": "code",
   "execution_count": 29,
   "id": "89e95b2e",
   "metadata": {},
   "outputs": [],
   "source": [
    "normalized_train = scaler.transform(data_train)\n",
    "normalized_test = scaler.transform(data_test)"
   ]
  },
  {
   "cell_type": "markdown",
   "id": "08c21adc",
   "metadata": {},
   "source": [
    "## Create Timeseries Generator for training"
   ]
  },
  {
   "cell_type": "code",
   "execution_count": 30,
   "id": "6a37c370",
   "metadata": {},
   "outputs": [],
   "source": [
    "batch_size32 = 32\n",
    "train_tsGenerator60 = TimeseriesGenerator(normalized_train, normalized_train, length=length60, batch_size=batch_size32)"
   ]
  },
  {
   "cell_type": "code",
   "execution_count": 31,
   "id": "3e03869d",
   "metadata": {},
   "outputs": [
    {
     "data": {
      "text/plain": [
       "679"
      ]
     },
     "execution_count": 31,
     "metadata": {},
     "output_type": "execute_result"
    }
   ],
   "source": [
    "len(normalized_train)"
   ]
  },
  {
   "cell_type": "code",
   "execution_count": 32,
   "id": "3c3d75a0",
   "metadata": {},
   "outputs": [
    {
     "data": {
      "text/plain": [
       "20"
      ]
     },
     "execution_count": 32,
     "metadata": {},
     "output_type": "execute_result"
    }
   ],
   "source": [
    "len(train_tsGenerator60)"
   ]
  },
  {
   "cell_type": "code",
   "execution_count": 33,
   "id": "f7660745",
   "metadata": {},
   "outputs": [],
   "source": [
    "x,y = train_tsGenerator60[0]"
   ]
  },
  {
   "cell_type": "code",
   "execution_count": 34,
   "id": "9c2438f0",
   "metadata": {},
   "outputs": [],
   "source": [
    "# print(x)"
   ]
  },
  {
   "cell_type": "code",
   "execution_count": 35,
   "id": "ef8b6c85",
   "metadata": {},
   "outputs": [],
   "source": [
    "# print(y)"
   ]
  },
  {
   "cell_type": "markdown",
   "id": "02646c2e",
   "metadata": {},
   "source": [
    "## Build, Train, and Test Model "
   ]
  },
  {
   "cell_type": "markdown",
   "id": "09224508",
   "metadata": {},
   "source": [
    "### Build LSTM Model"
   ]
  },
  {
   "cell_type": "code",
   "execution_count": 36,
   "id": "e47c2f99",
   "metadata": {},
   "outputs": [],
   "source": [
    "n_features = 1"
   ]
  },
  {
   "cell_type": "code",
   "execution_count": 37,
   "id": "a27b16b9",
   "metadata": {},
   "outputs": [
    {
     "name": "stderr",
     "output_type": "stream",
     "text": [
      "2023-04-29 22:19:18.459237: I tensorflow/core/platform/cpu_feature_guard.cc:193] This TensorFlow binary is optimized with oneAPI Deep Neural Network Library (oneDNN) to use the following CPU instructions in performance-critical operations:  AVX2 FMA\n",
      "To enable them in other operations, rebuild TensorFlow with the appropriate compiler flags.\n"
     ]
    }
   ],
   "source": [
    "model = Sequential()\n",
    "model.add(LSTM(50, activation='relu', return_sequences=True, input_shape=(length60, n_features)))\n",
    "model.add(Dropout(0.2))\n",
    "model.add(LSTM(units=50, activation='relu', return_sequences=True))\n",
    "model.add(Dropout(0.2))\n",
    "model.add(LSTM(units=50, activation='relu'))\n",
    "model.add(Dense(1))"
   ]
  },
  {
   "cell_type": "markdown",
   "id": "cf80f4fb",
   "metadata": {},
   "source": [
    "### Complie Model"
   ]
  },
  {
   "cell_type": "code",
   "execution_count": 38,
   "id": "10339719",
   "metadata": {},
   "outputs": [
    {
     "name": "stdout",
     "output_type": "stream",
     "text": [
      "Model: \"sequential\"\n",
      "_________________________________________________________________\n",
      " Layer (type)                Output Shape              Param #   \n",
      "=================================================================\n",
      " lstm (LSTM)                 (None, 60, 50)            10400     \n",
      "                                                                 \n",
      " dropout (Dropout)           (None, 60, 50)            0         \n",
      "                                                                 \n",
      " lstm_1 (LSTM)               (None, 60, 50)            20200     \n",
      "                                                                 \n",
      " dropout_1 (Dropout)         (None, 60, 50)            0         \n",
      "                                                                 \n",
      " lstm_2 (LSTM)               (None, 50)                20200     \n",
      "                                                                 \n",
      " dense (Dense)               (None, 1)                 51        \n",
      "                                                                 \n",
      "=================================================================\n",
      "Total params: 50,851\n",
      "Trainable params: 50,851\n",
      "Non-trainable params: 0\n",
      "_________________________________________________________________\n"
     ]
    }
   ],
   "source": [
    "model.compile(optimizer='adam', loss='mse')\n",
    "model.summary()"
   ]
  },
  {
   "cell_type": "code",
   "execution_count": 39,
   "id": "fb532bc2",
   "metadata": {},
   "outputs": [
    {
     "name": "stderr",
     "output_type": "stream",
     "text": [
      "/var/folders/jp/xnmsl60d1bsf55jdzg5kjf5h0000gn/T/ipykernel_4934/1152258115.py:1: UserWarning: `Model.fit_generator` is deprecated and will be removed in a future version. Please use `Model.fit`, which supports generators.\n",
      "  model.fit_generator(train_tsGenerator60, epochs=100)\n"
     ]
    },
    {
     "name": "stdout",
     "output_type": "stream",
     "text": [
      "Epoch 1/100\n",
      "20/20 [==============================] - 13s 119ms/step - loss: 0.2138\n",
      "Epoch 2/100\n",
      "20/20 [==============================] - 3s 147ms/step - loss: 0.0208\n",
      "Epoch 3/100\n",
      "20/20 [==============================] - 3s 134ms/step - loss: 0.0247\n",
      "Epoch 4/100\n",
      "20/20 [==============================] - 3s 160ms/step - loss: 0.0199\n",
      "Epoch 5/100\n",
      "20/20 [==============================] - 3s 141ms/step - loss: 0.0120\n",
      "Epoch 6/100\n",
      "20/20 [==============================] - 2s 123ms/step - loss: 0.0100\n",
      "Epoch 7/100\n",
      "20/20 [==============================] - 2s 124ms/step - loss: 0.0075\n",
      "Epoch 8/100\n",
      "20/20 [==============================] - 2s 114ms/step - loss: 0.0084\n",
      "Epoch 9/100\n",
      "20/20 [==============================] - 2s 105ms/step - loss: 0.0073\n",
      "Epoch 10/100\n",
      "20/20 [==============================] - 2s 118ms/step - loss: 0.0096\n",
      "Epoch 11/100\n",
      "20/20 [==============================] - 2s 114ms/step - loss: 0.0077\n",
      "Epoch 12/100\n",
      "20/20 [==============================] - 3s 134ms/step - loss: 0.0072\n",
      "Epoch 13/100\n",
      "20/20 [==============================] - 3s 138ms/step - loss: 0.0070\n",
      "Epoch 14/100\n",
      "20/20 [==============================] - 2s 119ms/step - loss: 0.0079\n",
      "Epoch 15/100\n",
      "20/20 [==============================] - 2s 73ms/step - loss: 0.0075\n",
      "Epoch 16/100\n",
      "20/20 [==============================] - 2s 81ms/step - loss: 0.0064\n",
      "Epoch 17/100\n",
      "20/20 [==============================] - 2s 123ms/step - loss: 0.0065\n",
      "Epoch 18/100\n",
      "20/20 [==============================] - 2s 123ms/step - loss: 0.0100\n",
      "Epoch 19/100\n",
      "20/20 [==============================] - 2s 114ms/step - loss: 0.0086\n",
      "Epoch 20/100\n",
      "20/20 [==============================] - 2s 115ms/step - loss: 0.0069\n",
      "Epoch 21/100\n",
      "20/20 [==============================] - 2s 112ms/step - loss: 0.0073\n",
      "Epoch 22/100\n",
      "20/20 [==============================] - 2s 107ms/step - loss: 0.0065\n",
      "Epoch 23/100\n",
      "20/20 [==============================] - 2s 96ms/step - loss: 0.0060\n",
      "Epoch 24/100\n",
      "20/20 [==============================] - 2s 98ms/step - loss: 0.0050\n",
      "Epoch 25/100\n",
      "20/20 [==============================] - 2s 100ms/step - loss: 0.0057\n",
      "Epoch 26/100\n",
      "20/20 [==============================] - 2s 99ms/step - loss: 0.0051\n",
      "Epoch 27/100\n",
      "20/20 [==============================] - 2s 108ms/step - loss: 0.0049\n",
      "Epoch 28/100\n",
      "20/20 [==============================] - 2s 113ms/step - loss: 0.0053\n",
      "Epoch 29/100\n",
      "20/20 [==============================] - 2s 110ms/step - loss: 0.0047\n",
      "Epoch 30/100\n",
      "20/20 [==============================] - 2s 104ms/step - loss: 0.0057\n",
      "Epoch 31/100\n",
      "20/20 [==============================] - 2s 106ms/step - loss: 0.0059\n",
      "Epoch 32/100\n",
      "20/20 [==============================] - 2s 99ms/step - loss: 0.0048\n",
      "Epoch 33/100\n",
      "20/20 [==============================] - 2s 96ms/step - loss: 0.0046\n",
      "Epoch 34/100\n",
      "20/20 [==============================] - 2s 104ms/step - loss: 0.0046\n",
      "Epoch 35/100\n",
      "20/20 [==============================] - 2s 114ms/step - loss: 0.0045\n",
      "Epoch 36/100\n",
      "20/20 [==============================] - 2s 110ms/step - loss: 0.0043\n",
      "Epoch 37/100\n",
      "20/20 [==============================] - 2s 103ms/step - loss: 0.0051\n",
      "Epoch 38/100\n",
      "20/20 [==============================] - 2s 105ms/step - loss: 0.0044\n",
      "Epoch 39/100\n",
      "20/20 [==============================] - 2s 97ms/step - loss: 0.0039\n",
      "Epoch 40/100\n",
      "20/20 [==============================] - 2s 94ms/step - loss: 0.0040\n",
      "Epoch 41/100\n",
      "20/20 [==============================] - 2s 96ms/step - loss: 0.0055\n",
      "Epoch 42/100\n",
      "20/20 [==============================] - 2s 94ms/step - loss: 0.0043\n",
      "Epoch 43/100\n",
      "20/20 [==============================] - 2s 94ms/step - loss: 0.0043\n",
      "Epoch 44/100\n",
      "20/20 [==============================] - 2s 101ms/step - loss: 0.0039\n",
      "Epoch 45/100\n",
      "20/20 [==============================] - 2s 105ms/step - loss: 0.0038\n",
      "Epoch 46/100\n",
      "20/20 [==============================] - 2s 110ms/step - loss: 0.0036\n",
      "Epoch 47/100\n",
      "20/20 [==============================] - 2s 106ms/step - loss: 0.0036\n",
      "Epoch 48/100\n",
      "20/20 [==============================] - 2s 100ms/step - loss: 0.0034\n",
      "Epoch 49/100\n",
      "20/20 [==============================] - 2s 95ms/step - loss: 0.0038\n",
      "Epoch 50/100\n",
      "20/20 [==============================] - 2s 107ms/step - loss: 0.0039\n",
      "Epoch 51/100\n",
      "20/20 [==============================] - 2s 105ms/step - loss: 0.0036\n",
      "Epoch 52/100\n",
      "20/20 [==============================] - 2s 105ms/step - loss: 0.0045\n",
      "Epoch 53/100\n",
      "20/20 [==============================] - 2s 101ms/step - loss: 0.0043\n",
      "Epoch 54/100\n",
      "20/20 [==============================] - 2s 98ms/step - loss: 0.0046\n",
      "Epoch 55/100\n",
      "20/20 [==============================] - 2s 102ms/step - loss: 0.0044\n",
      "Epoch 56/100\n",
      "20/20 [==============================] - 2s 107ms/step - loss: 0.0037\n",
      "Epoch 57/100\n",
      "20/20 [==============================] - 2s 107ms/step - loss: 0.0034\n",
      "Epoch 58/100\n",
      "20/20 [==============================] - 2s 97ms/step - loss: 0.0035\n",
      "Epoch 59/100\n",
      "20/20 [==============================] - 2s 99ms/step - loss: 0.0034\n",
      "Epoch 60/100\n",
      "20/20 [==============================] - 2s 100ms/step - loss: 0.0035\n",
      "Epoch 61/100\n",
      "20/20 [==============================] - 2s 96ms/step - loss: 0.0036\n",
      "Epoch 62/100\n",
      "20/20 [==============================] - 2s 87ms/step - loss: 0.0039\n",
      "Epoch 63/100\n",
      "20/20 [==============================] - 2s 88ms/step - loss: 0.0036\n",
      "Epoch 64/100\n",
      "20/20 [==============================] - 2s 88ms/step - loss: 0.0035\n",
      "Epoch 65/100\n",
      "20/20 [==============================] - 2s 93ms/step - loss: 0.0032\n",
      "Epoch 66/100\n",
      "20/20 [==============================] - 2s 99ms/step - loss: 0.0031\n",
      "Epoch 67/100\n",
      "20/20 [==============================] - 2s 95ms/step - loss: 0.0034\n",
      "Epoch 68/100\n",
      "20/20 [==============================] - 1s 70ms/step - loss: 0.0037\n",
      "Epoch 69/100\n",
      "20/20 [==============================] - 1s 66ms/step - loss: 0.0037\n",
      "Epoch 70/100\n",
      "20/20 [==============================] - 1s 69ms/step - loss: 0.0040\n",
      "Epoch 71/100\n",
      "20/20 [==============================] - 1s 66ms/step - loss: 0.0032\n",
      "Epoch 72/100\n",
      "20/20 [==============================] - 1s 66ms/step - loss: 0.0030\n",
      "Epoch 73/100\n",
      "20/20 [==============================] - 1s 66ms/step - loss: 0.0032\n",
      "Epoch 74/100\n",
      "20/20 [==============================] - 1s 66ms/step - loss: 0.0031\n",
      "Epoch 75/100\n",
      "20/20 [==============================] - 1s 69ms/step - loss: 0.0037\n",
      "Epoch 76/100\n",
      "20/20 [==============================] - 1s 66ms/step - loss: 0.0036\n",
      "Epoch 77/100\n",
      "20/20 [==============================] - 1s 66ms/step - loss: 0.0033\n",
      "Epoch 78/100\n",
      "20/20 [==============================] - 1s 66ms/step - loss: 0.0045\n",
      "Epoch 79/100\n",
      "20/20 [==============================] - 1s 70ms/step - loss: 0.0040\n",
      "Epoch 80/100\n",
      "20/20 [==============================] - 2s 87ms/step - loss: 0.0037\n",
      "Epoch 81/100\n",
      "20/20 [==============================] - 2s 88ms/step - loss: 0.0040\n",
      "Epoch 82/100\n",
      "20/20 [==============================] - 1s 68ms/step - loss: 0.0039\n",
      "Epoch 83/100\n",
      "20/20 [==============================] - 1s 64ms/step - loss: 0.0034\n",
      "Epoch 84/100\n",
      "20/20 [==============================] - 1s 68ms/step - loss: 0.0032\n",
      "Epoch 85/100\n",
      "20/20 [==============================] - 1s 69ms/step - loss: 0.0034\n",
      "Epoch 86/100\n",
      "20/20 [==============================] - 1s 66ms/step - loss: 0.0037\n",
      "Epoch 87/100\n",
      "20/20 [==============================] - 1s 65ms/step - loss: 0.0037\n",
      "Epoch 88/100\n",
      "20/20 [==============================] - 1s 66ms/step - loss: 0.0035\n",
      "Epoch 89/100\n",
      "20/20 [==============================] - 2s 82ms/step - loss: 0.0028\n",
      "Epoch 90/100\n",
      "20/20 [==============================] - 2s 80ms/step - loss: 0.0033\n",
      "Epoch 91/100\n",
      "20/20 [==============================] - 1s 65ms/step - loss: 0.0032\n",
      "Epoch 92/100\n",
      "20/20 [==============================] - 2s 85ms/step - loss: 0.0031\n",
      "Epoch 93/100\n",
      "20/20 [==============================] - 2s 94ms/step - loss: 0.0031\n",
      "Epoch 94/100\n",
      "20/20 [==============================] - 2s 79ms/step - loss: 0.0031\n",
      "Epoch 95/100\n",
      "20/20 [==============================] - 1s 73ms/step - loss: 0.0028\n",
      "Epoch 96/100\n",
      "20/20 [==============================] - 2s 106ms/step - loss: 0.0028\n",
      "Epoch 97/100\n",
      "20/20 [==============================] - 3s 126ms/step - loss: 0.0034\n",
      "Epoch 98/100\n",
      "20/20 [==============================] - 3s 137ms/step - loss: 0.0041\n",
      "Epoch 99/100\n",
      "20/20 [==============================] - 2s 102ms/step - loss: 0.0031\n",
      "Epoch 100/100\n"
     ]
    },
    {
     "name": "stdout",
     "output_type": "stream",
     "text": [
      "20/20 [==============================] - 2s 91ms/step - loss: 0.0030\n"
     ]
    },
    {
     "data": {
      "text/plain": [
       "<keras.callbacks.History at 0x7fef9af33340>"
      ]
     },
     "execution_count": 39,
     "metadata": {},
     "output_type": "execute_result"
    }
   ],
   "source": [
    "model.fit_generator(train_tsGenerator60, epochs=100)"
   ]
  },
  {
   "cell_type": "markdown",
   "id": "78f1f056",
   "metadata": {},
   "source": [
    "### Visualize Model Performance After Training."
   ]
  },
  {
   "cell_type": "code",
   "execution_count": 40,
   "id": "37160145",
   "metadata": {},
   "outputs": [
    {
     "data": {
      "text/plain": [
       "dict_keys(['loss'])"
      ]
     },
     "execution_count": 40,
     "metadata": {},
     "output_type": "execute_result"
    }
   ],
   "source": [
    "loss_history_keys = model.history.history.keys()\n",
    "loss_history_keys"
   ]
  },
  {
   "cell_type": "code",
   "execution_count": 41,
   "id": "e2d41246",
   "metadata": {},
   "outputs": [
    {
     "data": {
      "text/plain": [
       "<AxesSubplot:>"
      ]
     },
     "execution_count": 41,
     "metadata": {},
     "output_type": "execute_result"
    },
    {
     "data": {
      "image/png": "[encoded data removed]",
      "text/plain": [
       "<Figure size 640x480 with 1 Axes>"
      ]
     },
     "metadata": {},
     "output_type": "display_data"
    }
   ],
   "source": [
    "df_model_loss = pd.DataFrame(model.history.history)\n",
    "df_model_loss.plot()"
   ]
  },
  {
   "cell_type": "markdown",
   "id": "6d9e424c",
   "metadata": {},
   "source": [
    "## Prediciton for Testing: Using Timeseries Generator"
   ]
  },
  {
   "cell_type": "markdown",
   "id": "fed2ab6c",
   "metadata": {},
   "source": [
    "### Create Timeseries Generator for Testing"
   ]
  },
  {
   "cell_type": "code",
   "execution_count": 42,
   "id": "4c74059a",
   "metadata": {},
   "outputs": [],
   "source": [
    "batch_size1 = 1\n",
    "test_tsGenerator60 = TimeseriesGenerator(normalized_test, normalized_test, length=length60, batch_size=batch_size1)"
   ]
  },
  {
   "cell_type": "markdown",
   "id": "dcd584e0",
   "metadata": {},
   "source": [
    "### Predict future data points for testing."
   ]
  },
  {
   "cell_type": "code",
   "execution_count": 43,
   "id": "e6b20365",
   "metadata": {},
   "outputs": [
    {
     "name": "stderr",
     "output_type": "stream",
     "text": [
      "/var/folders/jp/xnmsl60d1bsf55jdzg5kjf5h0000gn/T/ipykernel_4934/880395577.py:1: UserWarning: `Model.predict_generator` is deprecated and will be removed in a future version. Please use `Model.predict`, which supports generators.\n",
      "  normalized_prediction = model.predict_generator (test_tsGenerator60)\n"
     ]
    }
   ],
   "source": [
    "normalized_prediction = model.predict_generator (test_tsGenerator60) "
   ]
  },
  {
   "cell_type": "code",
   "execution_count": 44,
   "id": "508002ef",
   "metadata": {},
   "outputs": [
    {
     "data": {
      "text/plain": [
       "array([[0.396545  ],\n",
       "       [0.3739382 ],\n",
       "       [0.34629685],\n",
       "       [0.3207094 ],\n",
       "       [0.30226022],\n",
       "       [0.29054755],\n",
       "       [0.28599697],\n",
       "       [0.29244602],\n",
       "       [0.31006426],\n",
       "       [0.33505386],\n",
       "       [0.36028773],\n",
       "       [0.38011461],\n",
       "       [0.39418417],\n",
       "       [0.39975214],\n",
       "       [0.40096658],\n",
       "       [0.39815873],\n",
       "       [0.39374977],\n",
       "       [0.38518715],\n",
       "       [0.37476414],\n",
       "       [0.36629212],\n",
       "       [0.3620038 ],\n",
       "       [0.35975313],\n",
       "       [0.3558842 ],\n",
       "       [0.34828734],\n",
       "       [0.34194028],\n",
       "       [0.3369463 ],\n",
       "       [0.3324868 ],\n",
       "       [0.32691932],\n",
       "       [0.3192435 ],\n",
       "       [0.30877286],\n",
       "       [0.29870707],\n",
       "       [0.2902398 ],\n",
       "       [0.28217214],\n",
       "       [0.27238274],\n",
       "       [0.26093778],\n",
       "       [0.24945638],\n",
       "       [0.23775904],\n",
       "       [0.22494146],\n",
       "       [0.21161446],\n",
       "       [0.1991392 ],\n",
       "       [0.19092761],\n",
       "       [0.18972707],\n",
       "       [0.19766293],\n",
       "       [0.21381825],\n",
       "       [0.23328388],\n",
       "       [0.25480783],\n",
       "       [0.27664903],\n",
       "       [0.2991466 ],\n",
       "       [0.3183967 ],\n",
       "       [0.33501285],\n",
       "       [0.34828287],\n",
       "       [0.3526768 ],\n",
       "       [0.3531291 ],\n",
       "       [0.35275364],\n",
       "       [0.35738665],\n",
       "       [0.3624931 ],\n",
       "       [0.36766177],\n",
       "       [0.3702193 ],\n",
       "       [0.36933404],\n",
       "       [0.36505628],\n",
       "       [0.35650885],\n",
       "       [0.34368247],\n",
       "       [0.32961732],\n",
       "       [0.3151362 ],\n",
       "       [0.30255198],\n",
       "       [0.29218   ],\n",
       "       [0.28886938],\n",
       "       [0.29344797],\n",
       "       [0.30499226],\n",
       "       [0.32051158],\n",
       "       [0.33874488],\n",
       "       [0.3582495 ],\n",
       "       [0.37554306],\n",
       "       [0.38766026],\n",
       "       [0.39581686],\n",
       "       [0.40281367]], dtype=float32)"
      ]
     },
     "execution_count": 44,
     "metadata": {},
     "output_type": "execute_result"
    }
   ],
   "source": [
    "normalized_prediction"
   ]
  },
  {
   "cell_type": "code",
   "execution_count": 45,
   "id": "87783cae",
   "metadata": {},
   "outputs": [
    {
     "data": {
      "text/plain": [
       "76"
      ]
     },
     "execution_count": 45,
     "metadata": {},
     "output_type": "execute_result"
    }
   ],
   "source": [
    "len(normalized_prediction)"
   ]
  },
  {
   "cell_type": "code",
   "execution_count": 46,
   "id": "40e37c12",
   "metadata": {},
   "outputs": [],
   "source": [
    "# convert normalized predictions back to the true values\n",
    "prediction = scaler.inverse_transform(normalized_prediction)"
   ]
  },
  {
   "cell_type": "code",
   "execution_count": 47,
   "id": "e89b22f5",
   "metadata": {},
   "outputs": [],
   "source": [
    "prediction_index = np.arange(679, 755, step=1)\n",
    "\n",
    "df_prediction = pd.DataFrame(data=prediction, index=prediction_index, columns=['Prediction'])"
   ]
  },
  {
   "cell_type": "code",
   "execution_count": 48,
   "id": "17f9b4bd",
   "metadata": {},
   "outputs": [
    {
     "data": {
      "text/html": [
       "<div>\n",
       "<style scoped>\n",
       "    .dataframe tbody tr th:only-of-type {\n",
       "        vertical-align: middle;\n",
       "    }\n",
       "\n",
       "    .dataframe tbody tr th {\n",
       "        vertical-align: top;\n",
       "    }\n",
       "\n",
       "    .dataframe thead th {\n",
       "        text-align: right;\n",
       "    }\n",
       "</style>\n",
       "<table border=\"1\" class=\"dataframe\">\n",
       "  <thead>\n",
       "    <tr style=\"text-align: right;\">\n",
       "      <th></th>\n",
       "      <th>Prediction</th>\n",
       "    </tr>\n",
       "  </thead>\n",
       "  <tbody>\n",
       "    <tr>\n",
       "      <th>679</th>\n",
       "      <td>5.975105</td>\n",
       "    </tr>\n",
       "    <tr>\n",
       "      <th>680</th>\n",
       "      <td>5.746776</td>\n",
       "    </tr>\n",
       "    <tr>\n",
       "      <th>681</th>\n",
       "      <td>5.467598</td>\n",
       "    </tr>\n",
       "    <tr>\n",
       "      <th>682</th>\n",
       "      <td>5.209165</td>\n",
       "    </tr>\n",
       "    <tr>\n",
       "      <th>683</th>\n",
       "      <td>5.022828</td>\n",
       "    </tr>\n",
       "    <tr>\n",
       "      <th>...</th>\n",
       "      <td>...</td>\n",
       "    </tr>\n",
       "    <tr>\n",
       "      <th>750</th>\n",
       "      <td>5.588320</td>\n",
       "    </tr>\n",
       "    <tr>\n",
       "      <th>751</th>\n",
       "      <td>5.762985</td>\n",
       "    </tr>\n",
       "    <tr>\n",
       "      <th>752</th>\n",
       "      <td>5.885369</td>\n",
       "    </tr>\n",
       "    <tr>\n",
       "      <th>753</th>\n",
       "      <td>5.967751</td>\n",
       "    </tr>\n",
       "    <tr>\n",
       "      <th>754</th>\n",
       "      <td>6.038418</td>\n",
       "    </tr>\n",
       "  </tbody>\n",
       "</table>\n",
       "<p>76 rows × 1 columns</p>\n",
       "</div>"
      ],
      "text/plain": [
       "     Prediction\n",
       "679    5.975105\n",
       "680    5.746776\n",
       "681    5.467598\n",
       "682    5.209165\n",
       "683    5.022828\n",
       "..          ...\n",
       "750    5.588320\n",
       "751    5.762985\n",
       "752    5.885369\n",
       "753    5.967751\n",
       "754    6.038418\n",
       "\n",
       "[76 rows x 1 columns]"
      ]
     },
     "execution_count": 48,
     "metadata": {},
     "output_type": "execute_result"
    }
   ],
   "source": [
    "df_prediction"
   ]
  },
  {
   "cell_type": "markdown",
   "id": "a313b463",
   "metadata": {},
   "source": [
    "## Visuavilize Prediction"
   ]
  },
  {
   "cell_type": "code",
   "execution_count": 49,
   "id": "3275baa7",
   "metadata": {},
   "outputs": [
    {
     "data": {
      "text/plain": [
       "<AxesSubplot:>"
      ]
     },
     "execution_count": 49,
     "metadata": {},
     "output_type": "execute_result"
    },
    {
     "data": {
      "image/png": "[encoded data removed]",
      "text/plain": [
       "<Figure size 800x1200 with 1 Axes>"
      ]
     },
     "metadata": {},
     "output_type": "display_data"
    }
   ],
   "source": [
    "ax = data_train.plot()\n",
    "df_prediction.plot(ax=ax, figsize=(8, 12))"
   ]
  },
  {
   "cell_type": "markdown",
   "id": "dd46bb26",
   "metadata": {},
   "source": [
    "## Visuavilize Prediciton and Compare Actual Close Price"
   ]
  },
  {
   "cell_type": "code",
   "execution_count": 50,
   "id": "bf47c98a",
   "metadata": {},
   "outputs": [
    {
     "data": {
      "text/plain": [
       "<AxesSubplot:>"
      ]
     },
     "execution_count": 50,
     "metadata": {},
     "output_type": "execute_result"
    },
    {
     "data": {
      "image/png": "[encoded data removed]",
      "text/plain": [
       "<Figure size 800x1200 with 1 Axes>"
      ]
     },
     "metadata": {},
     "output_type": "display_data"
    }
   ],
   "source": [
    "ax = df.plot()\n",
    "df_prediction.plot(ax=ax, figsize=(8, 12))"
   ]
  },
  {
   "cell_type": "markdown",
   "id": "3bf379a8",
   "metadata": {},
   "source": [
    "## Timeseries Forecasting With LSTM"
   ]
  },
  {
   "cell_type": "markdown",
   "id": "b95ddc5a",
   "metadata": {},
   "source": [
    "## Overview"
   ]
  },
  {
   "cell_type": "markdown",
   "id": "91c31ea5",
   "metadata": {},
   "source": [
    "### Timeseries Forecasting:"
   ]
  },
  {
   "cell_type": "markdown",
   "id": "f4ed22a4",
   "metadata": {},
   "source": [
    "### Forecast into the \"Future\" or unknown range."
   ]
  },
  {
   "cell_type": "markdown",
   "id": "cd8e1003",
   "metadata": {},
   "source": [
    "### Should employ all the available data."
   ]
  },
  {
   "cell_type": "markdown",
   "id": "4795cf85",
   "metadata": {},
   "source": [
    "### i.e., not split the data into training/testing"
   ]
  },
  {
   "cell_type": "markdown",
   "id": "5a161544",
   "metadata": {},
   "source": [
    "### Preprocess full input dataset"
   ]
  },
  {
   "cell_type": "code",
   "execution_count": 51,
   "id": "66d59ccf",
   "metadata": {},
   "outputs": [],
   "source": [
    "#Still use Minmax Scaler to normalize the full input dataset\n",
    "\n",
    "full_scaler = MinMaxScaler()\n",
    "normalized_full_data = full_scaler.fit_transform(df)"
   ]
  },
  {
   "cell_type": "markdown",
   "id": "4ac8acbc",
   "metadata": {},
   "source": [
    "## Create Timeseries Generator for Forecasting."
   ]
  },
  {
   "cell_type": "code",
   "execution_count": 52,
   "id": "28e4b2f8",
   "metadata": {},
   "outputs": [
    {
     "data": {
      "text/plain": [
       "60"
      ]
     },
     "execution_count": 52,
     "metadata": {},
     "output_type": "execute_result"
    }
   ],
   "source": [
    "# Number of time steps of the input time series\n",
    "# still use length60:\n",
    "length60"
   ]
  },
  {
   "cell_type": "code",
   "execution_count": 53,
   "id": "dd2dbf50",
   "metadata": {},
   "outputs": [],
   "source": [
    "# create timeseries Generator for forecasting\n",
    "forecast_tsGenerator = TimeseriesGenerator(normalized_full_data, normalized_full_data, length=length60, batch_size=batch_size32)"
   ]
  },
  {
   "cell_type": "markdown",
   "id": "303f511b",
   "metadata": {},
   "source": [
    "# Build, Compile and Fit LSTM Model for Forecasting"
   ]
  },
  {
   "cell_type": "code",
   "execution_count": 54,
   "id": "af3d16c5",
   "metadata": {},
   "outputs": [
    {
     "name": "stdout",
     "output_type": "stream",
     "text": [
      "Epoch 1/100\n",
      " 1/22 [>.............................] - ETA: 2s - loss: 0.0019"
     ]
    },
    {
     "name": "stderr",
     "output_type": "stream",
     "text": [
      "/var/folders/jp/xnmsl60d1bsf55jdzg5kjf5h0000gn/T/ipykernel_4934/1181600291.py:5: UserWarning: `Model.fit_generator` is deprecated and will be removed in a future version. Please use `Model.fit`, which supports generators.\n",
      "  model.fit_generator(forecast_tsGenerator, epochs = 100)\n"
     ]
    },
    {
     "name": "stdout",
     "output_type": "stream",
     "text": [
      "22/22 [==============================] - 2s 86ms/step - loss: 0.0031\n",
      "Epoch 2/100\n",
      "22/22 [==============================] - 2s 78ms/step - loss: 0.0029\n",
      "Epoch 3/100\n",
      "22/22 [==============================] - 2s 96ms/step - loss: 0.0027\n",
      "Epoch 4/100\n",
      "22/22 [==============================] - 2s 108ms/step - loss: 0.0028\n",
      "Epoch 5/100\n",
      "22/22 [==============================] - 2s 107ms/step - loss: 0.0030\n",
      "Epoch 6/100\n",
      "22/22 [==============================] - 2s 107ms/step - loss: 0.0027\n",
      "Epoch 7/100\n",
      "22/22 [==============================] - 2s 101ms/step - loss: 0.0029\n",
      "Epoch 8/100\n",
      "22/22 [==============================] - 2s 78ms/step - loss: 0.0030\n",
      "Epoch 9/100\n",
      "22/22 [==============================] - 2s 96ms/step - loss: 0.0024\n",
      "Epoch 10/100\n",
      "22/22 [==============================] - 2s 89ms/step - loss: 0.0027\n",
      "Epoch 11/100\n",
      "22/22 [==============================] - 2s 73ms/step - loss: 0.0033\n",
      "Epoch 12/100\n",
      "22/22 [==============================] - 2s 73ms/step - loss: 0.0029\n",
      "Epoch 13/100\n",
      "22/22 [==============================] - 2s 73ms/step - loss: 0.0026\n",
      "Epoch 14/100\n",
      "22/22 [==============================] - 2s 75ms/step - loss: 0.0026\n",
      "Epoch 15/100\n",
      "22/22 [==============================] - 2s 73ms/step - loss: 0.0025\n",
      "Epoch 16/100\n",
      "22/22 [==============================] - 2s 73ms/step - loss: 0.0027\n",
      "Epoch 17/100\n",
      "22/22 [==============================] - 2s 74ms/step - loss: 0.0027\n",
      "Epoch 18/100\n",
      "22/22 [==============================] - 2s 74ms/step - loss: 0.0027\n",
      "Epoch 19/100\n",
      "22/22 [==============================] - 2s 74ms/step - loss: 0.0026\n",
      "Epoch 20/100\n",
      "22/22 [==============================] - 2s 96ms/step - loss: 0.0031\n",
      "Epoch 21/100\n",
      "22/22 [==============================] - 2s 89ms/step - loss: 0.0029\n",
      "Epoch 22/100\n",
      "22/22 [==============================] - 2s 75ms/step - loss: 0.0033\n",
      "Epoch 23/100\n",
      "22/22 [==============================] - 2s 74ms/step - loss: 0.0025\n",
      "Epoch 24/100\n",
      "22/22 [==============================] - 2s 78ms/step - loss: 0.0024\n",
      "Epoch 25/100\n",
      "22/22 [==============================] - 2s 74ms/step - loss: 0.0026\n",
      "Epoch 26/100\n",
      "22/22 [==============================] - 2s 85ms/step - loss: 0.0024\n",
      "Epoch 27/100\n",
      "22/22 [==============================] - 2s 83ms/step - loss: 0.0024\n",
      "Epoch 28/100\n",
      "22/22 [==============================] - 2s 78ms/step - loss: 0.0025\n",
      "Epoch 29/100\n",
      "22/22 [==============================] - 2s 74ms/step - loss: 0.0024\n",
      "Epoch 30/100\n",
      "22/22 [==============================] - 2s 75ms/step - loss: 0.0022\n",
      "Epoch 31/100\n",
      "22/22 [==============================] - 2s 76ms/step - loss: 0.0027\n",
      "Epoch 32/100\n",
      "22/22 [==============================] - 2s 79ms/step - loss: 0.0024\n",
      "Epoch 33/100\n",
      "22/22 [==============================] - 2s 75ms/step - loss: 0.0023\n",
      "Epoch 34/100\n",
      "22/22 [==============================] - 2s 75ms/step - loss: 0.0024\n",
      "Epoch 35/100\n",
      "22/22 [==============================] - 2s 76ms/step - loss: 0.0023\n",
      "Epoch 36/100\n",
      "22/22 [==============================] - 2s 78ms/step - loss: 0.0027\n",
      "Epoch 37/100\n",
      "22/22 [==============================] - 2s 89ms/step - loss: 0.0023\n",
      "Epoch 38/100\n",
      "22/22 [==============================] - 2s 77ms/step - loss: 0.0024\n",
      "Epoch 39/100\n",
      "22/22 [==============================] - 2s 75ms/step - loss: 0.0029\n",
      "Epoch 40/100\n",
      "22/22 [==============================] - 2s 75ms/step - loss: 0.0028\n",
      "Epoch 41/100\n",
      "22/22 [==============================] - 2s 76ms/step - loss: 0.0023\n",
      "Epoch 42/100\n",
      "22/22 [==============================] - 2s 76ms/step - loss: 0.0021\n",
      "Epoch 43/100\n",
      "22/22 [==============================] - 2s 76ms/step - loss: 0.0023\n",
      "Epoch 44/100\n",
      "22/22 [==============================] - 2s 78ms/step - loss: 0.0025\n",
      "Epoch 45/100\n",
      "22/22 [==============================] - 2s 78ms/step - loss: 0.0035\n",
      "Epoch 46/100\n",
      "22/22 [==============================] - 2s 76ms/step - loss: 0.0055\n",
      "Epoch 47/100\n",
      "22/22 [==============================] - 2s 77ms/step - loss: 0.0048\n",
      "Epoch 48/100\n",
      "22/22 [==============================] - 2s 88ms/step - loss: 0.0023\n",
      "Epoch 49/100\n",
      "22/22 [==============================] - 2s 83ms/step - loss: 0.0023\n",
      "Epoch 50/100\n",
      "22/22 [==============================] - 2s 79ms/step - loss: 0.0025\n",
      "Epoch 51/100\n",
      "22/22 [==============================] - 2s 80ms/step - loss: 0.0036\n",
      "Epoch 52/100\n",
      "22/22 [==============================] - 2s 78ms/step - loss: 0.0034\n",
      "Epoch 53/100\n",
      "22/22 [==============================] - 2s 88ms/step - loss: 0.0026\n",
      "Epoch 54/100\n",
      "22/22 [==============================] - 2s 95ms/step - loss: 0.0021\n",
      "Epoch 55/100\n",
      "22/22 [==============================] - 2s 89ms/step - loss: 0.0023\n",
      "Epoch 56/100\n",
      "22/22 [==============================] - 2s 83ms/step - loss: 0.0022\n",
      "Epoch 57/100\n",
      "22/22 [==============================] - 2s 84ms/step - loss: 0.0021\n",
      "Epoch 58/100\n",
      "22/22 [==============================] - 2s 80ms/step - loss: 0.0035\n",
      "Epoch 59/100\n",
      "22/22 [==============================] - 2s 79ms/step - loss: 0.0024\n",
      "Epoch 60/100\n",
      "22/22 [==============================] - 2s 78ms/step - loss: 0.0022\n",
      "Epoch 61/100\n",
      "22/22 [==============================] - 2s 79ms/step - loss: 0.0021\n",
      "Epoch 62/100\n",
      "22/22 [==============================] - 2s 80ms/step - loss: 0.0021\n",
      "Epoch 63/100\n",
      "22/22 [==============================] - 2s 79ms/step - loss: 0.0024\n",
      "Epoch 64/100\n",
      "22/22 [==============================] - 2s 90ms/step - loss: 0.0025\n",
      "Epoch 65/100\n",
      "22/22 [==============================] - 2s 93ms/step - loss: 0.0025\n",
      "Epoch 66/100\n",
      "22/22 [==============================] - 2s 92ms/step - loss: 0.0019\n",
      "Epoch 67/100\n",
      "22/22 [==============================] - 2s 81ms/step - loss: 0.0021\n",
      "Epoch 68/100\n",
      "22/22 [==============================] - 2s 82ms/step - loss: 0.0021\n",
      "Epoch 69/100\n",
      "22/22 [==============================] - 2s 87ms/step - loss: 0.0024\n",
      "Epoch 70/100\n",
      "22/22 [==============================] - 2s 94ms/step - loss: 0.0022\n",
      "Epoch 71/100\n",
      "22/22 [==============================] - 2s 86ms/step - loss: 0.0023\n",
      "Epoch 72/100\n",
      "22/22 [==============================] - 2s 80ms/step - loss: 0.0022\n",
      "Epoch 73/100\n",
      "22/22 [==============================] - 2s 79ms/step - loss: 0.0020\n",
      "Epoch 74/100\n",
      "22/22 [==============================] - 2s 80ms/step - loss: 0.0022\n",
      "Epoch 75/100\n",
      "22/22 [==============================] - 2s 82ms/step - loss: 0.0020\n",
      "Epoch 76/100\n",
      "22/22 [==============================] - 2s 75ms/step - loss: 0.0018\n",
      "Epoch 77/100\n",
      "22/22 [==============================] - 2s 81ms/step - loss: 0.0021\n",
      "Epoch 78/100\n",
      "22/22 [==============================] - 2s 75ms/step - loss: 0.0021\n",
      "Epoch 79/100\n",
      "22/22 [==============================] - 2s 107ms/step - loss: 0.0022\n",
      "Epoch 80/100\n",
      "22/22 [==============================] - 2s 97ms/step - loss: 0.0023\n",
      "Epoch 81/100\n",
      "22/22 [==============================] - 2s 91ms/step - loss: 0.0020\n",
      "Epoch 82/100\n",
      "22/22 [==============================] - 2s 81ms/step - loss: 0.0021\n",
      "Epoch 83/100\n",
      "22/22 [==============================] - 2s 82ms/step - loss: 0.0020\n",
      "Epoch 84/100\n",
      "22/22 [==============================] - 2s 81ms/step - loss: 0.0025\n",
      "Epoch 85/100\n",
      "22/22 [==============================] - 2s 93ms/step - loss: 0.0024\n",
      "Epoch 86/100\n",
      "22/22 [==============================] - 2s 84ms/step - loss: 0.0022\n",
      "Epoch 87/100\n",
      "22/22 [==============================] - 2s 86ms/step - loss: 0.0021\n",
      "Epoch 88/100\n",
      "22/22 [==============================] - 2s 81ms/step - loss: 0.0020\n",
      "Epoch 89/100\n",
      "22/22 [==============================] - 2s 101ms/step - loss: 0.0023\n",
      "Epoch 90/100\n",
      "22/22 [==============================] - 2s 103ms/step - loss: 0.0026\n",
      "Epoch 91/100\n",
      "22/22 [==============================] - 2s 95ms/step - loss: 0.0024\n",
      "Epoch 92/100\n",
      "22/22 [==============================] - 2s 82ms/step - loss: 0.0021\n",
      "Epoch 93/100\n",
      "22/22 [==============================] - 2s 80ms/step - loss: 0.0020\n",
      "Epoch 94/100\n",
      "22/22 [==============================] - 2s 83ms/step - loss: 0.0035\n",
      "Epoch 95/100\n",
      "22/22 [==============================] - 2s 101ms/step - loss: 0.0031\n",
      "Epoch 96/100\n",
      "22/22 [==============================] - 2s 98ms/step - loss: 0.0029\n",
      "Epoch 97/100\n",
      "22/22 [==============================] - 2s 79ms/step - loss: 0.0023\n",
      "Epoch 98/100\n",
      "22/22 [==============================] - 2s 80ms/step - loss: 0.0023\n",
      "Epoch 99/100\n",
      "22/22 [==============================] - 2s 79ms/step - loss: 0.0020\n",
      "Epoch 100/100\n",
      "22/22 [==============================] - 2s 84ms/step - loss: 0.0018\n"
     ]
    },
    {
     "data": {
      "text/plain": [
       "<keras.callbacks.History at 0x7fef802fab50>"
      ]
     },
     "execution_count": 54,
     "metadata": {},
     "output_type": "execute_result"
    }
   ],
   "source": [
    "# Train/Fit LSTM model\n",
    "# In forecasting, we don't valiate, only FORECAST\n",
    "# So, not need EarlyStop: Not need validation_generator\n",
    "\n",
    "model.fit_generator(forecast_tsGenerator, epochs = 100)"
   ]
  },
  {
   "cell_type": "markdown",
   "id": "fe52e4c0",
   "metadata": {},
   "source": [
    "## Timeseries Forecasting Using LSTM Neural Network "
   ]
  },
  {
   "cell_type": "code",
   "execution_count": 55,
   "id": "d53365af",
   "metadata": {},
   "outputs": [
    {
     "name": "stdout",
     "output_type": "stream",
     "text": [
      "1/1 [==============================] - 0s 416ms/step\n",
      "1/1 [==============================] - 0s 32ms/step\n",
      "1/1 [==============================] - 0s 35ms/step\n",
      "1/1 [==============================] - 0s 29ms/step\n",
      "1/1 [==============================] - 0s 30ms/step\n",
      "1/1 [==============================] - 0s 31ms/step\n",
      "1/1 [==============================] - 0s 31ms/step\n",
      "1/1 [==============================] - 0s 32ms/step\n",
      "1/1 [==============================] - 0s 32ms/step\n",
      "1/1 [==============================] - 0s 29ms/step\n",
      "1/1 [==============================] - 0s 33ms/step\n",
      "1/1 [==============================] - 0s 33ms/step\n",
      "1/1 [==============================] - 0s 32ms/step\n",
      "1/1 [==============================] - 0s 32ms/step\n",
      "1/1 [==============================] - 0s 29ms/step\n",
      "1/1 [==============================] - 0s 30ms/step\n",
      "1/1 [==============================] - 0s 30ms/step\n",
      "1/1 [==============================] - 0s 32ms/step\n",
      "1/1 [==============================] - 0s 32ms/step\n",
      "1/1 [==============================] - 0s 33ms/step\n",
      "1/1 [==============================] - 0s 33ms/step\n",
      "1/1 [==============================] - 0s 33ms/step\n",
      "1/1 [==============================] - 0s 33ms/step\n",
      "1/1 [==============================] - 0s 33ms/step\n",
      "1/1 [==============================] - 0s 30ms/step\n",
      "1/1 [==============================] - 0s 32ms/step\n",
      "1/1 [==============================] - 0s 32ms/step\n",
      "1/1 [==============================] - 0s 31ms/step\n",
      "1/1 [==============================] - 0s 32ms/step\n",
      "1/1 [==============================] - 0s 34ms/step\n",
      "1/1 [==============================] - 0s 33ms/step\n",
      "1/1 [==============================] - 0s 34ms/step\n",
      "1/1 [==============================] - 0s 33ms/step\n",
      "1/1 [==============================] - 0s 32ms/step\n",
      "1/1 [==============================] - 0s 32ms/step\n",
      "1/1 [==============================] - 0s 32ms/step\n",
      "1/1 [==============================] - 0s 33ms/step\n",
      "1/1 [==============================] - 0s 33ms/step\n",
      "1/1 [==============================] - 0s 32ms/step\n",
      "1/1 [==============================] - 0s 32ms/step\n",
      "1/1 [==============================] - 0s 33ms/step\n",
      "1/1 [==============================] - 0s 32ms/step\n",
      "1/1 [==============================] - 0s 31ms/step\n",
      "1/1 [==============================] - 0s 31ms/step\n",
      "1/1 [==============================] - 0s 32ms/step\n",
      "1/1 [==============================] - 0s 33ms/step\n",
      "1/1 [==============================] - 0s 33ms/step\n",
      "1/1 [==============================] - 0s 32ms/step\n",
      "1/1 [==============================] - 0s 32ms/step\n",
      "1/1 [==============================] - 0s 33ms/step\n",
      "1/1 [==============================] - 0s 32ms/step\n",
      "1/1 [==============================] - 0s 32ms/step\n",
      "1/1 [==============================] - 0s 32ms/step\n",
      "1/1 [==============================] - 0s 33ms/step\n",
      "1/1 [==============================] - 0s 32ms/step\n",
      "1/1 [==============================] - 0s 35ms/step\n",
      "1/1 [==============================] - 0s 43ms/step\n",
      "1/1 [==============================] - 0s 38ms/step\n",
      "1/1 [==============================] - 0s 33ms/step\n",
      "1/1 [==============================] - 0s 38ms/step\n",
      "1/1 [==============================] - 0s 35ms/step\n",
      "1/1 [==============================] - 0s 33ms/step\n",
      "1/1 [==============================] - 0s 34ms/step\n",
      "1/1 [==============================] - 0s 30ms/step\n",
      "1/1 [==============================] - 0s 34ms/step\n",
      "1/1 [==============================] - 0s 33ms/step\n",
      "1/1 [==============================] - 0s 34ms/step\n",
      "1/1 [==============================] - 0s 35ms/step\n",
      "1/1 [==============================] - 0s 37ms/step\n",
      "1/1 [==============================] - 0s 32ms/step\n",
      "1/1 [==============================] - 0s 36ms/step\n",
      "1/1 [==============================] - 0s 37ms/step\n",
      "1/1 [==============================] - 0s 40ms/step\n",
      "1/1 [==============================] - 0s 42ms/step\n",
      "1/1 [==============================] - 0s 44ms/step\n",
      "1/1 [==============================] - 0s 40ms/step\n",
      "1/1 [==============================] - 0s 45ms/step\n",
      "1/1 [==============================] - 0s 47ms/step\n",
      "1/1 [==============================] - 0s 52ms/step\n",
      "1/1 [==============================] - 0s 34ms/step\n",
      "1/1 [==============================] - 0s 39ms/step\n",
      "1/1 [==============================] - 0s 43ms/step\n",
      "1/1 [==============================] - 0s 40ms/step\n",
      "1/1 [==============================] - 0s 40ms/step\n",
      "1/1 [==============================] - 0s 38ms/step\n",
      "1/1 [==============================] - 0s 69ms/step\n",
      "1/1 [==============================] - 0s 57ms/step\n",
      "1/1 [==============================] - 0s 38ms/step\n",
      "1/1 [==============================] - 0s 43ms/step\n",
      "1/1 [==============================] - 0s 35ms/step\n",
      "1/1 [==============================] - 0s 35ms/step\n",
      "1/1 [==============================] - 0s 34ms/step\n",
      "1/1 [==============================] - 0s 43ms/step\n",
      "1/1 [==============================] - 0s 33ms/step\n",
      "1/1 [==============================] - 0s 41ms/step\n",
      "1/1 [==============================] - 0s 39ms/step\n",
      "1/1 [==============================] - 0s 54ms/step\n",
      "1/1 [==============================] - 0s 49ms/step\n",
      "1/1 [==============================] - 0s 54ms/step\n",
      "1/1 [==============================] - 0s 48ms/step\n",
      "1/1 [==============================] - 0s 35ms/step\n",
      "1/1 [==============================] - 0s 62ms/step\n"
     ]
    }
   ],
   "source": [
    "forecast = []\n",
    "# Set periods with the time span of forecasting\n",
    "# Let's forecast for the next 102 business days \n",
    "periods = 102\n",
    "\n",
    "first_eval_batch = normalized_full_data[-length60:]\n",
    "current_batch = first_eval_batch.reshape((1, length60, n_features))\n",
    "\n",
    "for i in range(periods):\n",
    "    \n",
    "    # get prediction 1 time stamp ahead([0] is for grabbing just the number instead of [array])\n",
    "    current_pred = model.predict(current_batch)[0]\n",
    "    \n",
    "    # store prediction\n",
    "    forecast.append(current_pred)\n",
    "    \n",
    "    # update batch to now include prediction and drop first value\n",
    "    current_batch = np.append(current_batch[:,1:,:], [[current_pred]],axis=1)\n",
    "    "
   ]
  },
  {
   "cell_type": "markdown",
   "id": "89a96ae6",
   "metadata": {},
   "source": [
    "## Inverse to Transform Normalized Data Back Into True Values"
   ]
  },
  {
   "cell_type": "code",
   "execution_count": 56,
   "id": "f299f9fe",
   "metadata": {},
   "outputs": [
    {
     "data": {
      "text/plain": [
       "array([[6.00636243],\n",
       "       [5.9941751 ],\n",
       "       [5.92173591],\n",
       "       [5.8328511 ],\n",
       "       [5.74704555],\n",
       "       [5.66875756],\n",
       "       [5.59883837],\n",
       "       [5.53344627],\n",
       "       [5.47350956],\n",
       "       [5.41893613],\n",
       "       [5.36905534],\n",
       "       [5.32302348],\n",
       "       [5.27950711],\n",
       "       [5.23730282],\n",
       "       [5.19542993],\n",
       "       [5.15314556],\n",
       "       [5.1099332 ],\n",
       "       [5.06548011],\n",
       "       [5.0196418 ],\n",
       "       [4.97240473],\n",
       "       [4.92397176],\n",
       "       [4.87457078],\n",
       "       [4.82436159],\n",
       "       [4.77350616],\n",
       "       [4.72248276],\n",
       "       [4.67130284],\n",
       "       [4.61968135],\n",
       "       [4.56745936],\n",
       "       [4.51445265],\n",
       "       [4.46048138],\n",
       "       [4.40446553],\n",
       "       [4.34571884],\n",
       "       [4.28340827],\n",
       "       [4.21718088],\n",
       "       [4.14758121],\n",
       "       [4.07623677],\n",
       "       [4.00518957],\n",
       "       [3.93587991],\n",
       "       [3.86942693],\n",
       "       [3.80751142],\n",
       "       [3.75279817],\n",
       "       [3.70744763],\n",
       "       [3.67208936],\n",
       "       [3.64779642],\n",
       "       [3.63533774],\n",
       "       [3.63500784],\n",
       "       [3.64681425],\n",
       "       [3.67062257],\n",
       "       [3.7071087 ],\n",
       "       [3.75724038],\n",
       "       [3.82128052],\n",
       "       [3.89918834],\n",
       "       [3.98884388],\n",
       "       [4.08583517],\n",
       "       [4.18003495],\n",
       "       [4.26382649],\n",
       "       [4.33170367],\n",
       "       [4.37734949],\n",
       "       [4.39597438],\n",
       "       [4.38456168],\n",
       "       [4.346231  ],\n",
       "       [4.28611654],\n",
       "       [4.21149433],\n",
       "       [4.1280807 ],\n",
       "       [4.03511036],\n",
       "       [3.93472075],\n",
       "       [3.83098969],\n",
       "       [3.72742162],\n",
       "       [3.62784546],\n",
       "       [3.53656571],\n",
       "       [3.45673659],\n",
       "       [3.38865969],\n",
       "       [3.33206999],\n",
       "       [3.28650724],\n",
       "       [3.25140302],\n",
       "       [3.22492562],\n",
       "       [3.20547922],\n",
       "       [3.19203957],\n",
       "       [3.18397162],\n",
       "       [3.18059594],\n",
       "       [3.1814237 ],\n",
       "       [3.18610875],\n",
       "       [3.19442585],\n",
       "       [3.20624708],\n",
       "       [3.22153091],\n",
       "       [3.24033316],\n",
       "       [3.26298774],\n",
       "       [3.28962293],\n",
       "       [3.32048903],\n",
       "       [3.3559221 ],\n",
       "       [3.39642076],\n",
       "       [3.44283038],\n",
       "       [3.49605968],\n",
       "       [3.55723878],\n",
       "       [3.62752595],\n",
       "       [3.70993693],\n",
       "       [3.8066951 ],\n",
       "       [3.91829559],\n",
       "       [4.0425006 ],\n",
       "       [4.16628   ],\n",
       "       [4.28120176],\n",
       "       [4.38089802]])"
      ]
     },
     "execution_count": 56,
     "metadata": {},
     "output_type": "execute_result"
    }
   ],
   "source": [
    "forecast = full_scaler.inverse_transform(forecast)\n",
    "\n",
    "forecast"
   ]
  },
  {
   "cell_type": "code",
   "execution_count": 57,
   "id": "260e9626",
   "metadata": {},
   "outputs": [
    {
     "data": {
      "text/html": [
       "<div>\n",
       "<style scoped>\n",
       "    .dataframe tbody tr th:only-of-type {\n",
       "        vertical-align: middle;\n",
       "    }\n",
       "\n",
       "    .dataframe tbody tr th {\n",
       "        vertical-align: top;\n",
       "    }\n",
       "\n",
       "    .dataframe thead th {\n",
       "        text-align: right;\n",
       "    }\n",
       "</style>\n",
       "<table border=\"1\" class=\"dataframe\">\n",
       "  <thead>\n",
       "    <tr style=\"text-align: right;\">\n",
       "      <th></th>\n",
       "      <th>Close</th>\n",
       "    </tr>\n",
       "  </thead>\n",
       "  <tbody>\n",
       "    <tr>\n",
       "      <th>0</th>\n",
       "      <td>7.82</td>\n",
       "    </tr>\n",
       "    <tr>\n",
       "      <th>1</th>\n",
       "      <td>7.70</td>\n",
       "    </tr>\n",
       "    <tr>\n",
       "      <th>2</th>\n",
       "      <td>6.71</td>\n",
       "    </tr>\n",
       "    <tr>\n",
       "      <th>3</th>\n",
       "      <td>7.30</td>\n",
       "    </tr>\n",
       "    <tr>\n",
       "      <th>4</th>\n",
       "      <td>6.47</td>\n",
       "    </tr>\n",
       "    <tr>\n",
       "      <th>...</th>\n",
       "      <td>...</td>\n",
       "    </tr>\n",
       "    <tr>\n",
       "      <th>750</th>\n",
       "      <td>5.97</td>\n",
       "    </tr>\n",
       "    <tr>\n",
       "      <th>751</th>\n",
       "      <td>5.88</td>\n",
       "    </tr>\n",
       "    <tr>\n",
       "      <th>752</th>\n",
       "      <td>6.04</td>\n",
       "    </tr>\n",
       "    <tr>\n",
       "      <th>753</th>\n",
       "      <td>6.26</td>\n",
       "    </tr>\n",
       "    <tr>\n",
       "      <th>754</th>\n",
       "      <td>6.37</td>\n",
       "    </tr>\n",
       "  </tbody>\n",
       "</table>\n",
       "<p>755 rows × 1 columns</p>\n",
       "</div>"
      ],
      "text/plain": [
       "     Close\n",
       "0     7.82\n",
       "1     7.70\n",
       "2     6.71\n",
       "3     7.30\n",
       "4     6.47\n",
       "..     ...\n",
       "750   5.97\n",
       "751   5.88\n",
       "752   6.04\n",
       "753   6.26\n",
       "754   6.37\n",
       "\n",
       "[755 rows x 1 columns]"
      ]
     },
     "execution_count": 57,
     "metadata": {},
     "output_type": "execute_result"
    }
   ],
   "source": [
    "df"
   ]
  },
  {
   "cell_type": "markdown",
   "id": "8316cd7a",
   "metadata": {},
   "source": [
    "## Creating a new time stamp index with pandas"
   ]
  },
  {
   "cell_type": "code",
   "execution_count": 58,
   "id": "16257971",
   "metadata": {},
   "outputs": [],
   "source": [
    "#calculate forecast index\n",
    "\n",
    "forecast_index = np.arange(755,857,step=1)"
   ]
  },
  {
   "cell_type": "code",
   "execution_count": 59,
   "id": "1b8f95f1",
   "metadata": {},
   "outputs": [],
   "source": [
    "forecast_df=pd.DataFrame(data=forecast,index=forecast_index,columns=['Forecast'])"
   ]
  },
  {
   "cell_type": "code",
   "execution_count": 60,
   "id": "1e4a0916",
   "metadata": {},
   "outputs": [
    {
     "data": {
      "text/html": [
       "<div>\n",
       "<style scoped>\n",
       "    .dataframe tbody tr th:only-of-type {\n",
       "        vertical-align: middle;\n",
       "    }\n",
       "\n",
       "    .dataframe tbody tr th {\n",
       "        vertical-align: top;\n",
       "    }\n",
       "\n",
       "    .dataframe thead th {\n",
       "        text-align: right;\n",
       "    }\n",
       "</style>\n",
       "<table border=\"1\" class=\"dataframe\">\n",
       "  <thead>\n",
       "    <tr style=\"text-align: right;\">\n",
       "      <th></th>\n",
       "      <th>Forecast</th>\n",
       "    </tr>\n",
       "  </thead>\n",
       "  <tbody>\n",
       "    <tr>\n",
       "      <th>755</th>\n",
       "      <td>6.006362</td>\n",
       "    </tr>\n",
       "    <tr>\n",
       "      <th>756</th>\n",
       "      <td>5.994175</td>\n",
       "    </tr>\n",
       "    <tr>\n",
       "      <th>757</th>\n",
       "      <td>5.921736</td>\n",
       "    </tr>\n",
       "    <tr>\n",
       "      <th>758</th>\n",
       "      <td>5.832851</td>\n",
       "    </tr>\n",
       "    <tr>\n",
       "      <th>759</th>\n",
       "      <td>5.747046</td>\n",
       "    </tr>\n",
       "    <tr>\n",
       "      <th>...</th>\n",
       "      <td>...</td>\n",
       "    </tr>\n",
       "    <tr>\n",
       "      <th>852</th>\n",
       "      <td>3.918296</td>\n",
       "    </tr>\n",
       "    <tr>\n",
       "      <th>853</th>\n",
       "      <td>4.042501</td>\n",
       "    </tr>\n",
       "    <tr>\n",
       "      <th>854</th>\n",
       "      <td>4.166280</td>\n",
       "    </tr>\n",
       "    <tr>\n",
       "      <th>855</th>\n",
       "      <td>4.281202</td>\n",
       "    </tr>\n",
       "    <tr>\n",
       "      <th>856</th>\n",
       "      <td>4.380898</td>\n",
       "    </tr>\n",
       "  </tbody>\n",
       "</table>\n",
       "<p>102 rows × 1 columns</p>\n",
       "</div>"
      ],
      "text/plain": [
       "     Forecast\n",
       "755  6.006362\n",
       "756  5.994175\n",
       "757  5.921736\n",
       "758  5.832851\n",
       "759  5.747046\n",
       "..        ...\n",
       "852  3.918296\n",
       "853  4.042501\n",
       "854  4.166280\n",
       "855  4.281202\n",
       "856  4.380898\n",
       "\n",
       "[102 rows x 1 columns]"
      ]
     },
     "execution_count": 60,
     "metadata": {},
     "output_type": "execute_result"
    }
   ],
   "source": [
    "forecast_df"
   ]
  },
  {
   "cell_type": "code",
   "execution_count": 61,
   "id": "1fc49ea6",
   "metadata": {},
   "outputs": [
    {
     "data": {
      "text/plain": [
       "<AxesSubplot:>"
      ]
     },
     "execution_count": 61,
     "metadata": {},
     "output_type": "execute_result"
    },
    {
     "data": {
      "image/png": "[encoded data removed]",
      "text/plain": [
       "<Figure size 640x480 with 1 Axes>"
      ]
     },
     "metadata": {},
     "output_type": "display_data"
    },
    {
     "data": {
      "image/png": "[encoded data removed]",
      "text/plain": [
       "<Figure size 640x480 with 1 Axes>"
      ]
     },
     "metadata": {},
     "output_type": "display_data"
    }
   ],
   "source": [
    "df.plot()\n",
    "forecast_df.plot()"
   ]
  },
  {
   "cell_type": "code",
   "execution_count": 62,
   "id": "4baadee1",
   "metadata": {},
   "outputs": [
    {
     "data": {
      "text/plain": [
       "<AxesSubplot:>"
      ]
     },
     "execution_count": 62,
     "metadata": {},
     "output_type": "execute_result"
    },
    {
     "data": {
      "image/png": "[encoded data removed]",
      "text/plain": [
       "<Figure size 1200x800 with 1 Axes>"
      ]
     },
     "metadata": {},
     "output_type": "display_data"
    }
   ],
   "source": [
    "ax=df.plot()\n",
    "forecast_df.plot(ax=ax, figsize=(12,8))"
   ]
  },
  {
   "cell_type": "code",
   "execution_count": 63,
   "id": "ef4ce9a6",
   "metadata": {},
   "outputs": [],
   "source": [
    "df_ALL_JAN_JUN_2012 = pd.read_csv('AAL (1).csv')"
   ]
  },
  {
   "cell_type": "code",
   "execution_count": 64,
   "id": "d48ae212",
   "metadata": {},
   "outputs": [
    {
     "data": {
      "text/html": [
       "<div>\n",
       "<style scoped>\n",
       "    .dataframe tbody tr th:only-of-type {\n",
       "        vertical-align: middle;\n",
       "    }\n",
       "\n",
       "    .dataframe tbody tr th {\n",
       "        vertical-align: top;\n",
       "    }\n",
       "\n",
       "    .dataframe thead th {\n",
       "        text-align: right;\n",
       "    }\n",
       "</style>\n",
       "<table border=\"1\" class=\"dataframe\">\n",
       "  <thead>\n",
       "    <tr style=\"text-align: right;\">\n",
       "      <th></th>\n",
       "      <th>Date</th>\n",
       "      <th>Open</th>\n",
       "      <th>High</th>\n",
       "      <th>Low</th>\n",
       "      <th>Close</th>\n",
       "      <th>Adj Close</th>\n",
       "      <th>Volume</th>\n",
       "    </tr>\n",
       "  </thead>\n",
       "  <tbody>\n",
       "    <tr>\n",
       "      <th>0</th>\n",
       "      <td>2012-01-23</td>\n",
       "      <td>6.43</td>\n",
       "      <td>6.49</td>\n",
       "      <td>6.20</td>\n",
       "      <td>6.26</td>\n",
       "      <td>5.901562</td>\n",
       "      <td>4500300</td>\n",
       "    </tr>\n",
       "    <tr>\n",
       "      <th>1</th>\n",
       "      <td>2012-01-24</td>\n",
       "      <td>6.21</td>\n",
       "      <td>6.53</td>\n",
       "      <td>6.11</td>\n",
       "      <td>6.41</td>\n",
       "      <td>6.042973</td>\n",
       "      <td>5945700</td>\n",
       "    </tr>\n",
       "    <tr>\n",
       "      <th>2</th>\n",
       "      <td>2012-01-25</td>\n",
       "      <td>7.00</td>\n",
       "      <td>7.94</td>\n",
       "      <td>6.89</td>\n",
       "      <td>7.52</td>\n",
       "      <td>7.089416</td>\n",
       "      <td>31771200</td>\n",
       "    </tr>\n",
       "    <tr>\n",
       "      <th>3</th>\n",
       "      <td>2012-01-26</td>\n",
       "      <td>7.78</td>\n",
       "      <td>8.27</td>\n",
       "      <td>7.65</td>\n",
       "      <td>7.85</td>\n",
       "      <td>7.400520</td>\n",
       "      <td>17160200</td>\n",
       "    </tr>\n",
       "    <tr>\n",
       "      <th>4</th>\n",
       "      <td>2012-01-27</td>\n",
       "      <td>7.80</td>\n",
       "      <td>8.27</td>\n",
       "      <td>7.76</td>\n",
       "      <td>8.18</td>\n",
       "      <td>7.711626</td>\n",
       "      <td>10372800</td>\n",
       "    </tr>\n",
       "  </tbody>\n",
       "</table>\n",
       "</div>"
      ],
      "text/plain": [
       "         Date  Open  High   Low  Close  Adj Close    Volume\n",
       "0  2012-01-23  6.43  6.49  6.20   6.26   5.901562   4500300\n",
       "1  2012-01-24  6.21  6.53  6.11   6.41   6.042973   5945700\n",
       "2  2012-01-25  7.00  7.94  6.89   7.52   7.089416  31771200\n",
       "3  2012-01-26  7.78  8.27  7.65   7.85   7.400520  17160200\n",
       "4  2012-01-27  7.80  8.27  7.76   8.18   7.711626  10372800"
      ]
     },
     "execution_count": 64,
     "metadata": {},
     "output_type": "execute_result"
    }
   ],
   "source": [
    "df_ALL_JAN_JUN_2012.head()"
   ]
  },
  {
   "cell_type": "code",
   "execution_count": 65,
   "id": "f7464560",
   "metadata": {},
   "outputs": [],
   "source": [
    "df_JAN_JUN_2012=df_ALL_JAN_JUN_2012.iloc[:,4:5]"
   ]
  },
  {
   "cell_type": "code",
   "execution_count": 66,
   "id": "f67ef1e9",
   "metadata": {},
   "outputs": [
    {
     "data": {
      "text/html": [
       "<div>\n",
       "<style scoped>\n",
       "    .dataframe tbody tr th:only-of-type {\n",
       "        vertical-align: middle;\n",
       "    }\n",
       "\n",
       "    .dataframe tbody tr th {\n",
       "        vertical-align: top;\n",
       "    }\n",
       "\n",
       "    .dataframe thead th {\n",
       "        text-align: right;\n",
       "    }\n",
       "</style>\n",
       "<table border=\"1\" class=\"dataframe\">\n",
       "  <thead>\n",
       "    <tr style=\"text-align: right;\">\n",
       "      <th></th>\n",
       "      <th>Close</th>\n",
       "    </tr>\n",
       "  </thead>\n",
       "  <tbody>\n",
       "    <tr>\n",
       "      <th>0</th>\n",
       "      <td>6.26</td>\n",
       "    </tr>\n",
       "    <tr>\n",
       "      <th>1</th>\n",
       "      <td>6.41</td>\n",
       "    </tr>\n",
       "    <tr>\n",
       "      <th>2</th>\n",
       "      <td>7.52</td>\n",
       "    </tr>\n",
       "    <tr>\n",
       "      <th>3</th>\n",
       "      <td>7.85</td>\n",
       "    </tr>\n",
       "    <tr>\n",
       "      <th>4</th>\n",
       "      <td>8.18</td>\n",
       "    </tr>\n",
       "    <tr>\n",
       "      <th>...</th>\n",
       "      <td>...</td>\n",
       "    </tr>\n",
       "    <tr>\n",
       "      <th>97</th>\n",
       "      <td>11.36</td>\n",
       "    </tr>\n",
       "    <tr>\n",
       "      <th>98</th>\n",
       "      <td>11.43</td>\n",
       "    </tr>\n",
       "    <tr>\n",
       "      <th>99</th>\n",
       "      <td>11.97</td>\n",
       "    </tr>\n",
       "    <tr>\n",
       "      <th>100</th>\n",
       "      <td>12.48</td>\n",
       "    </tr>\n",
       "    <tr>\n",
       "      <th>101</th>\n",
       "      <td>12.03</td>\n",
       "    </tr>\n",
       "  </tbody>\n",
       "</table>\n",
       "<p>102 rows × 1 columns</p>\n",
       "</div>"
      ],
      "text/plain": [
       "     Close\n",
       "0     6.26\n",
       "1     6.41\n",
       "2     7.52\n",
       "3     7.85\n",
       "4     8.18\n",
       "..     ...\n",
       "97   11.36\n",
       "98   11.43\n",
       "99   11.97\n",
       "100  12.48\n",
       "101  12.03\n",
       "\n",
       "[102 rows x 1 columns]"
      ]
     },
     "execution_count": 66,
     "metadata": {},
     "output_type": "execute_result"
    }
   ],
   "source": [
    "df_JAN_JUN_2012"
   ]
  },
  {
   "cell_type": "code",
   "execution_count": 67,
   "id": "8f2008d3",
   "metadata": {},
   "outputs": [
    {
     "data": {
      "text/plain": [
       "<AxesSubplot:>"
      ]
     },
     "execution_count": 67,
     "metadata": {},
     "output_type": "execute_result"
    },
    {
     "data": {
      "image/png": "[encoded data removed]",
      "text/plain": [
       "<Figure size 640x480 with 1 Axes>"
      ]
     },
     "metadata": {},
     "output_type": "display_data"
    }
   ],
   "source": [
    "df_JAN_JUN_2012.plot()"
   ]
  },
  {
   "cell_type": "code",
   "execution_count": 68,
   "id": "444cad71",
   "metadata": {},
   "outputs": [
    {
     "data": {
      "text/plain": [
       "array([6.00636243, 5.9941751 , 5.92173591, 5.8328511 , 5.74704555,\n",
       "       5.66875756, 5.59883837, 5.53344627, 5.47350956, 5.41893613,\n",
       "       5.36905534, 5.32302348, 5.27950711, 5.23730282, 5.19542993,\n",
       "       5.15314556, 5.1099332 , 5.06548011, 5.0196418 , 4.97240473,\n",
       "       4.92397176, 4.87457078, 4.82436159, 4.77350616, 4.72248276,\n",
       "       4.67130284, 4.61968135, 4.56745936, 4.51445265, 4.46048138,\n",
       "       4.40446553, 4.34571884, 4.28340827, 4.21718088, 4.14758121,\n",
       "       4.07623677, 4.00518957, 3.93587991, 3.86942693, 3.80751142,\n",
       "       3.75279817, 3.70744763, 3.67208936, 3.64779642, 3.63533774,\n",
       "       3.63500784, 3.64681425, 3.67062257, 3.7071087 , 3.75724038,\n",
       "       3.82128052, 3.89918834, 3.98884388, 4.08583517, 4.18003495,\n",
       "       4.26382649, 4.33170367, 4.37734949, 4.39597438, 4.38456168,\n",
       "       4.346231  , 4.28611654, 4.21149433, 4.1280807 , 4.03511036,\n",
       "       3.93472075, 3.83098969, 3.72742162, 3.62784546, 3.53656571,\n",
       "       3.45673659, 3.38865969, 3.33206999, 3.28650724, 3.25140302,\n",
       "       3.22492562, 3.20547922, 3.19203957, 3.18397162, 3.18059594,\n",
       "       3.1814237 , 3.18610875, 3.19442585, 3.20624708, 3.22153091,\n",
       "       3.24033316, 3.26298774, 3.28962293, 3.32048903, 3.3559221 ,\n",
       "       3.39642076, 3.44283038, 3.49605968, 3.55723878, 3.62752595,\n",
       "       3.70993693, 3.8066951 , 3.91829559, 4.0425006 , 4.16628   ,\n",
       "       4.28120176, 4.38089802])"
      ]
     },
     "execution_count": 68,
     "metadata": {},
     "output_type": "execute_result"
    }
   ],
   "source": [
    "forecast_df['Forecast'].values"
   ]
  },
  {
   "cell_type": "code",
   "execution_count": 69,
   "id": "9084dc90",
   "metadata": {},
   "outputs": [],
   "source": [
    "df_JAN_JUN_2012['Forecast'] = forecast_df['Forecast'].values"
   ]
  },
  {
   "cell_type": "code",
   "execution_count": 70,
   "id": "ba16ef2a",
   "metadata": {},
   "outputs": [
    {
     "data": {
      "text/html": [
       "<div>\n",
       "<style scoped>\n",
       "    .dataframe tbody tr th:only-of-type {\n",
       "        vertical-align: middle;\n",
       "    }\n",
       "\n",
       "    .dataframe tbody tr th {\n",
       "        vertical-align: top;\n",
       "    }\n",
       "\n",
       "    .dataframe thead th {\n",
       "        text-align: right;\n",
       "    }\n",
       "</style>\n",
       "<table border=\"1\" class=\"dataframe\">\n",
       "  <thead>\n",
       "    <tr style=\"text-align: right;\">\n",
       "      <th></th>\n",
       "      <th>Close</th>\n",
       "      <th>Forecast</th>\n",
       "    </tr>\n",
       "  </thead>\n",
       "  <tbody>\n",
       "    <tr>\n",
       "      <th>0</th>\n",
       "      <td>6.26</td>\n",
       "      <td>6.006362</td>\n",
       "    </tr>\n",
       "    <tr>\n",
       "      <th>1</th>\n",
       "      <td>6.41</td>\n",
       "      <td>5.994175</td>\n",
       "    </tr>\n",
       "    <tr>\n",
       "      <th>2</th>\n",
       "      <td>7.52</td>\n",
       "      <td>5.921736</td>\n",
       "    </tr>\n",
       "    <tr>\n",
       "      <th>3</th>\n",
       "      <td>7.85</td>\n",
       "      <td>5.832851</td>\n",
       "    </tr>\n",
       "    <tr>\n",
       "      <th>4</th>\n",
       "      <td>8.18</td>\n",
       "      <td>5.747046</td>\n",
       "    </tr>\n",
       "    <tr>\n",
       "      <th>...</th>\n",
       "      <td>...</td>\n",
       "      <td>...</td>\n",
       "    </tr>\n",
       "    <tr>\n",
       "      <th>97</th>\n",
       "      <td>11.36</td>\n",
       "      <td>3.918296</td>\n",
       "    </tr>\n",
       "    <tr>\n",
       "      <th>98</th>\n",
       "      <td>11.43</td>\n",
       "      <td>4.042501</td>\n",
       "    </tr>\n",
       "    <tr>\n",
       "      <th>99</th>\n",
       "      <td>11.97</td>\n",
       "      <td>4.166280</td>\n",
       "    </tr>\n",
       "    <tr>\n",
       "      <th>100</th>\n",
       "      <td>12.48</td>\n",
       "      <td>4.281202</td>\n",
       "    </tr>\n",
       "    <tr>\n",
       "      <th>101</th>\n",
       "      <td>12.03</td>\n",
       "      <td>4.380898</td>\n",
       "    </tr>\n",
       "  </tbody>\n",
       "</table>\n",
       "<p>102 rows × 2 columns</p>\n",
       "</div>"
      ],
      "text/plain": [
       "     Close  Forecast\n",
       "0     6.26  6.006362\n",
       "1     6.41  5.994175\n",
       "2     7.52  5.921736\n",
       "3     7.85  5.832851\n",
       "4     8.18  5.747046\n",
       "..     ...       ...\n",
       "97   11.36  3.918296\n",
       "98   11.43  4.042501\n",
       "99   11.97  4.166280\n",
       "100  12.48  4.281202\n",
       "101  12.03  4.380898\n",
       "\n",
       "[102 rows x 2 columns]"
      ]
     },
     "execution_count": 70,
     "metadata": {},
     "output_type": "execute_result"
    }
   ],
   "source": [
    "df_JAN_JUN_2012"
   ]
  },
  {
   "cell_type": "code",
   "execution_count": 71,
   "id": "036c5a99",
   "metadata": {},
   "outputs": [
    {
     "data": {
      "text/plain": [
       "<AxesSubplot:>"
      ]
     },
     "execution_count": 71,
     "metadata": {},
     "output_type": "execute_result"
    },
    {
     "data": {
      "image/png": "[encoded data removed]",
      "text/plain": [
       "<Figure size 640x480 with 1 Axes>"
      ]
     },
     "metadata": {},
     "output_type": "display_data"
    }
   ],
   "source": [
    "df_JAN_JUN_2012.plot()"
   ]
  }
 ],
 "metadata": {
  "kernelspec": {
   "display_name": "Python 3 (ipykernel)",
   "language": "python",
   "name": "python3"
  },
  "language_info": {
   "codemirror_mode": {
    "name": "ipython",
    "version": 3
   },
   "file_extension": ".py",
   "mimetype": "text/x-python",
   "name": "python",
   "nbconvert_exporter": "python",
   "pygments_lexer": "ipython3",
   "version": "3.9.13"
  }
 },
 "nbformat": 4,
 "nbformat_minor": 5
}
